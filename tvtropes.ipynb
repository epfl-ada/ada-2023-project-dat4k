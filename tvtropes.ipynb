{
 "cells": [
  {
   "cell_type": "code",
   "execution_count": 1,
   "metadata": {},
   "outputs": [],
   "source": [
    "import pandas as pd\n",
    "import numpy as np\n",
    "import matplotlib.pyplot as plt\n",
    "import csv\n",
    "import json\n",
    "import seaborn as sns\n",
    "\n",
    "\n"
   ]
  },
  {
   "cell_type": "code",
   "execution_count": 2,
   "metadata": {},
   "outputs": [
    {
     "data": {
      "text/html": [
       "<div>\n",
       "<style scoped>\n",
       "    .dataframe tbody tr th:only-of-type {\n",
       "        vertical-align: middle;\n",
       "    }\n",
       "\n",
       "    .dataframe tbody tr th {\n",
       "        vertical-align: top;\n",
       "    }\n",
       "\n",
       "    .dataframe thead th {\n",
       "        text-align: right;\n",
       "    }\n",
       "</style>\n",
       "<table border=\"1\" class=\"dataframe\">\n",
       "  <thead>\n",
       "    <tr style=\"text-align: right;\">\n",
       "      <th></th>\n",
       "      <th>Wikipedia Movie ID</th>\n",
       "      <th>Freebase Movie ID</th>\n",
       "      <th>Movie Date Release</th>\n",
       "      <th>Character Name</th>\n",
       "      <th>Actor DOB</th>\n",
       "      <th>Actor gender</th>\n",
       "      <th>Actor height</th>\n",
       "      <th>Actor ethnicity</th>\n",
       "      <th>Actor Name</th>\n",
       "      <th>Actor age at movie release</th>\n",
       "      <th>Freebase character/actor map ID</th>\n",
       "      <th>Freebase character ID</th>\n",
       "      <th>Freebase actor ID</th>\n",
       "      <th>Movie release Month</th>\n",
       "    </tr>\n",
       "  </thead>\n",
       "  <tbody>\n",
       "    <tr>\n",
       "      <th>0</th>\n",
       "      <td>975900</td>\n",
       "      <td>/m/03vyhn</td>\n",
       "      <td>2001-08-24</td>\n",
       "      <td>Akooshay</td>\n",
       "      <td>1958-08-26</td>\n",
       "      <td>F</td>\n",
       "      <td>1.620</td>\n",
       "      <td>NaN</td>\n",
       "      <td>Wanda De Jesus</td>\n",
       "      <td>42.0</td>\n",
       "      <td>/m/0bgchxw</td>\n",
       "      <td>/m/0bgcj3x</td>\n",
       "      <td>/m/03wcfv7</td>\n",
       "      <td>08</td>\n",
       "    </tr>\n",
       "    <tr>\n",
       "      <th>1</th>\n",
       "      <td>975900</td>\n",
       "      <td>/m/03vyhn</td>\n",
       "      <td>2001-08-24</td>\n",
       "      <td>Lieutenant Melanie Ballard</td>\n",
       "      <td>1974-08-15</td>\n",
       "      <td>F</td>\n",
       "      <td>1.780</td>\n",
       "      <td>/m/044038p</td>\n",
       "      <td>Natasha Henstridge</td>\n",
       "      <td>27.0</td>\n",
       "      <td>/m/0jys3m</td>\n",
       "      <td>/m/0bgchn4</td>\n",
       "      <td>/m/0346l4</td>\n",
       "      <td>08</td>\n",
       "    </tr>\n",
       "    <tr>\n",
       "      <th>2</th>\n",
       "      <td>975900</td>\n",
       "      <td>/m/03vyhn</td>\n",
       "      <td>2001-08-24</td>\n",
       "      <td>Desolation Williams</td>\n",
       "      <td>1969-06-15</td>\n",
       "      <td>M</td>\n",
       "      <td>1.727</td>\n",
       "      <td>/m/0x67</td>\n",
       "      <td>Ice Cube</td>\n",
       "      <td>32.0</td>\n",
       "      <td>/m/0jys3g</td>\n",
       "      <td>/m/0bgchn_</td>\n",
       "      <td>/m/01vw26l</td>\n",
       "      <td>08</td>\n",
       "    </tr>\n",
       "    <tr>\n",
       "      <th>3</th>\n",
       "      <td>975900</td>\n",
       "      <td>/m/03vyhn</td>\n",
       "      <td>2001-08-24</td>\n",
       "      <td>Sgt Jericho Butler</td>\n",
       "      <td>1967-09-12</td>\n",
       "      <td>M</td>\n",
       "      <td>1.750</td>\n",
       "      <td>NaN</td>\n",
       "      <td>Jason Statham</td>\n",
       "      <td>33.0</td>\n",
       "      <td>/m/02vchl6</td>\n",
       "      <td>/m/0bgchnq</td>\n",
       "      <td>/m/034hyc</td>\n",
       "      <td>08</td>\n",
       "    </tr>\n",
       "    <tr>\n",
       "      <th>4</th>\n",
       "      <td>975900</td>\n",
       "      <td>/m/03vyhn</td>\n",
       "      <td>2001-08-24</td>\n",
       "      <td>Bashira Kincaid</td>\n",
       "      <td>1977-09-25</td>\n",
       "      <td>F</td>\n",
       "      <td>1.650</td>\n",
       "      <td>NaN</td>\n",
       "      <td>Clea DuVall</td>\n",
       "      <td>23.0</td>\n",
       "      <td>/m/02vbb3r</td>\n",
       "      <td>/m/0bgchp9</td>\n",
       "      <td>/m/01y9xg</td>\n",
       "      <td>08</td>\n",
       "    </tr>\n",
       "    <tr>\n",
       "      <th>...</th>\n",
       "      <td>...</td>\n",
       "      <td>...</td>\n",
       "      <td>...</td>\n",
       "      <td>...</td>\n",
       "      <td>...</td>\n",
       "      <td>...</td>\n",
       "      <td>...</td>\n",
       "      <td>...</td>\n",
       "      <td>...</td>\n",
       "      <td>...</td>\n",
       "      <td>...</td>\n",
       "      <td>...</td>\n",
       "      <td>...</td>\n",
       "      <td>...</td>\n",
       "    </tr>\n",
       "    <tr>\n",
       "      <th>450661</th>\n",
       "      <td>913762</td>\n",
       "      <td>/m/03pcrp</td>\n",
       "      <td>1992-05-21</td>\n",
       "      <td>UN Spacy Commander</td>\n",
       "      <td>1954</td>\n",
       "      <td>M</td>\n",
       "      <td>NaN</td>\n",
       "      <td>NaN</td>\n",
       "      <td>Sonny Byrkett</td>\n",
       "      <td>38.0</td>\n",
       "      <td>/m/0kr407w</td>\n",
       "      <td>/m/0kr407_</td>\n",
       "      <td>/m/0gn4bz</td>\n",
       "      <td>05</td>\n",
       "    </tr>\n",
       "    <tr>\n",
       "      <th>450662</th>\n",
       "      <td>913762</td>\n",
       "      <td>/m/03pcrp</td>\n",
       "      <td>1992-05-21</td>\n",
       "      <td>Silvie Gena</td>\n",
       "      <td>1958</td>\n",
       "      <td>F</td>\n",
       "      <td>NaN</td>\n",
       "      <td>NaN</td>\n",
       "      <td>Susan Byrkett</td>\n",
       "      <td>34.0</td>\n",
       "      <td>/m/0kr40b9</td>\n",
       "      <td>/m/0kr40bf</td>\n",
       "      <td>/m/0gn4nd</td>\n",
       "      <td>05</td>\n",
       "    </tr>\n",
       "    <tr>\n",
       "      <th>450663</th>\n",
       "      <td>913762</td>\n",
       "      <td>/m/03pcrp</td>\n",
       "      <td>1992-05-21</td>\n",
       "      <td>Exegran</td>\n",
       "      <td>NaN</td>\n",
       "      <td>M</td>\n",
       "      <td>NaN</td>\n",
       "      <td>NaN</td>\n",
       "      <td>Hal Cleaveland</td>\n",
       "      <td>NaN</td>\n",
       "      <td>/m/0kr407c</td>\n",
       "      <td>/m/0kr406_</td>\n",
       "      <td>/m/0kr407h</td>\n",
       "      <td>05</td>\n",
       "    </tr>\n",
       "    <tr>\n",
       "      <th>450664</th>\n",
       "      <td>913762</td>\n",
       "      <td>/m/03pcrp</td>\n",
       "      <td>1992-05-21</td>\n",
       "      <td>Elensh</td>\n",
       "      <td>1970-05</td>\n",
       "      <td>F</td>\n",
       "      <td>NaN</td>\n",
       "      <td>NaN</td>\n",
       "      <td>Dorothy Elias-Fahn</td>\n",
       "      <td>NaN</td>\n",
       "      <td>/m/0kr406c</td>\n",
       "      <td>/m/0kr406h</td>\n",
       "      <td>/m/0b_vcv</td>\n",
       "      <td>05</td>\n",
       "    </tr>\n",
       "    <tr>\n",
       "      <th>450665</th>\n",
       "      <td>913762</td>\n",
       "      <td>/m/03pcrp</td>\n",
       "      <td>1992-05-21</td>\n",
       "      <td>Hibiki</td>\n",
       "      <td>1965-04-12</td>\n",
       "      <td>M</td>\n",
       "      <td>NaN</td>\n",
       "      <td>NaN</td>\n",
       "      <td>Jonathan Fahn</td>\n",
       "      <td>27.0</td>\n",
       "      <td>/m/0kr405_</td>\n",
       "      <td>/m/0kr4090</td>\n",
       "      <td>/m/0bx7_j</td>\n",
       "      <td>05</td>\n",
       "    </tr>\n",
       "  </tbody>\n",
       "</table>\n",
       "<p>290872 rows × 14 columns</p>\n",
       "</div>"
      ],
      "text/plain": [
       "        Wikipedia Movie ID Freebase Movie ID Movie Date Release  \\\n",
       "0                   975900         /m/03vyhn         2001-08-24   \n",
       "1                   975900         /m/03vyhn         2001-08-24   \n",
       "2                   975900         /m/03vyhn         2001-08-24   \n",
       "3                   975900         /m/03vyhn         2001-08-24   \n",
       "4                   975900         /m/03vyhn         2001-08-24   \n",
       "...                    ...               ...                ...   \n",
       "450661              913762         /m/03pcrp         1992-05-21   \n",
       "450662              913762         /m/03pcrp         1992-05-21   \n",
       "450663              913762         /m/03pcrp         1992-05-21   \n",
       "450664              913762         /m/03pcrp         1992-05-21   \n",
       "450665              913762         /m/03pcrp         1992-05-21   \n",
       "\n",
       "                    Character Name   Actor DOB Actor gender  Actor height  \\\n",
       "0                         Akooshay  1958-08-26            F         1.620   \n",
       "1       Lieutenant Melanie Ballard  1974-08-15            F         1.780   \n",
       "2              Desolation Williams  1969-06-15            M         1.727   \n",
       "3               Sgt Jericho Butler  1967-09-12            M         1.750   \n",
       "4                  Bashira Kincaid  1977-09-25            F         1.650   \n",
       "...                            ...         ...          ...           ...   \n",
       "450661          UN Spacy Commander        1954            M           NaN   \n",
       "450662                 Silvie Gena        1958            F           NaN   \n",
       "450663                     Exegran         NaN            M           NaN   \n",
       "450664                      Elensh     1970-05            F           NaN   \n",
       "450665                      Hibiki  1965-04-12            M           NaN   \n",
       "\n",
       "       Actor ethnicity          Actor Name  Actor age at movie release  \\\n",
       "0                  NaN      Wanda De Jesus                        42.0   \n",
       "1           /m/044038p  Natasha Henstridge                        27.0   \n",
       "2              /m/0x67            Ice Cube                        32.0   \n",
       "3                  NaN       Jason Statham                        33.0   \n",
       "4                  NaN         Clea DuVall                        23.0   \n",
       "...                ...                 ...                         ...   \n",
       "450661             NaN       Sonny Byrkett                        38.0   \n",
       "450662             NaN       Susan Byrkett                        34.0   \n",
       "450663             NaN      Hal Cleaveland                         NaN   \n",
       "450664             NaN  Dorothy Elias-Fahn                         NaN   \n",
       "450665             NaN       Jonathan Fahn                        27.0   \n",
       "\n",
       "       Freebase character/actor map ID Freebase character ID  \\\n",
       "0                           /m/0bgchxw            /m/0bgcj3x   \n",
       "1                            /m/0jys3m            /m/0bgchn4   \n",
       "2                            /m/0jys3g            /m/0bgchn_   \n",
       "3                           /m/02vchl6            /m/0bgchnq   \n",
       "4                           /m/02vbb3r            /m/0bgchp9   \n",
       "...                                ...                   ...   \n",
       "450661                      /m/0kr407w            /m/0kr407_   \n",
       "450662                      /m/0kr40b9            /m/0kr40bf   \n",
       "450663                      /m/0kr407c            /m/0kr406_   \n",
       "450664                      /m/0kr406c            /m/0kr406h   \n",
       "450665                      /m/0kr405_            /m/0kr4090   \n",
       "\n",
       "       Freebase actor ID Movie release Month  \n",
       "0             /m/03wcfv7                  08  \n",
       "1              /m/0346l4                  08  \n",
       "2             /m/01vw26l                  08  \n",
       "3              /m/034hyc                  08  \n",
       "4              /m/01y9xg                  08  \n",
       "...                  ...                 ...  \n",
       "450661         /m/0gn4bz                  05  \n",
       "450662         /m/0gn4nd                  05  \n",
       "450663        /m/0kr407h                  05  \n",
       "450664         /m/0b_vcv                  05  \n",
       "450665         /m/0bx7_j                  05  \n",
       "\n",
       "[290872 rows x 14 columns]"
      ]
     },
     "metadata": {},
     "output_type": "display_data"
    }
   ],
   "source": [
    "noms = ['Wikipedia Movie ID','Freebase Movie ID','Movie Date Release','Character Name','Actor DOB','Actor gender','Actor height','Actor ethnicity','Actor Name','Actor age at movie release',\t'Freebase character/actor map ID','Freebase character ID','Freebase actor ID']\n",
    "df_char = pd.read_csv('Data/character.metadata.tsv', delimiter='\\t', names = noms) \n",
    "df_char = df_char.dropna(subset=['Movie Date Release'])\n",
    "\n",
    "df_char = df_char[df_char['Movie Date Release'].str.len() > 4]\n",
    "df_char['Movie release Month'] = df_char['Movie Date Release'].str[5:7]\n",
    "\n",
    "df_char.shape\n",
    "display(df_char)\n"
   ]
  },
  {
   "cell_type": "code",
   "execution_count": 3,
   "metadata": {},
   "outputs": [
    {
     "data": {
      "text/html": [
       "<div>\n",
       "<style scoped>\n",
       "    .dataframe tbody tr th:only-of-type {\n",
       "        vertical-align: middle;\n",
       "    }\n",
       "\n",
       "    .dataframe tbody tr th {\n",
       "        vertical-align: top;\n",
       "    }\n",
       "\n",
       "    .dataframe thead th {\n",
       "        text-align: right;\n",
       "    }\n",
       "</style>\n",
       "<table border=\"1\" class=\"dataframe\">\n",
       "  <thead>\n",
       "    <tr style=\"text-align: right;\">\n",
       "      <th></th>\n",
       "      <th>Character type</th>\n",
       "      <th>ID</th>\n",
       "    </tr>\n",
       "  </thead>\n",
       "  <tbody>\n",
       "    <tr>\n",
       "      <th>0</th>\n",
       "      <td>absent_minded_professor</td>\n",
       "      <td>{\"char\": \"Professor Philip Brainard\", \"movie\":...</td>\n",
       "    </tr>\n",
       "    <tr>\n",
       "      <th>1</th>\n",
       "      <td>absent_minded_professor</td>\n",
       "      <td>{\"char\": \"Professor Keenbean\", \"movie\": \"Richi...</td>\n",
       "    </tr>\n",
       "    <tr>\n",
       "      <th>2</th>\n",
       "      <td>absent_minded_professor</td>\n",
       "      <td>{\"char\": \"Dr. Reinhardt Lane\", \"movie\": \"The S...</td>\n",
       "    </tr>\n",
       "    <tr>\n",
       "      <th>3</th>\n",
       "      <td>absent_minded_professor</td>\n",
       "      <td>{\"char\": \"Dr. Harold Medford\", \"movie\": \"Them!...</td>\n",
       "    </tr>\n",
       "    <tr>\n",
       "      <th>4</th>\n",
       "      <td>absent_minded_professor</td>\n",
       "      <td>{\"char\": \"Daniel Jackson\", \"movie\": \"Stargate\"...</td>\n",
       "    </tr>\n",
       "  </tbody>\n",
       "</table>\n",
       "</div>"
      ],
      "text/plain": [
       "            Character type                                                 ID\n",
       "0  absent_minded_professor  {\"char\": \"Professor Philip Brainard\", \"movie\":...\n",
       "1  absent_minded_professor  {\"char\": \"Professor Keenbean\", \"movie\": \"Richi...\n",
       "2  absent_minded_professor  {\"char\": \"Dr. Reinhardt Lane\", \"movie\": \"The S...\n",
       "3  absent_minded_professor  {\"char\": \"Dr. Harold Medford\", \"movie\": \"Them!...\n",
       "4  absent_minded_professor  {\"char\": \"Daniel Jackson\", \"movie\": \"Stargate\"..."
      ]
     },
     "execution_count": 3,
     "metadata": {},
     "output_type": "execute_result"
    }
   ],
   "source": [
    "tvt_tropes = pd.read_csv('Data/tvtropes.clusters.txt', sep='\\t', names =['Character type', 'ID'])\n",
    "tvt_tropes.ID[0]\n",
    "tvt_tropes.head()\n"
   ]
  },
  {
   "cell_type": "code",
   "execution_count": 4,
   "metadata": {},
   "outputs": [
    {
     "data": {
      "text/html": [
       "<div>\n",
       "<style scoped>\n",
       "    .dataframe tbody tr th:only-of-type {\n",
       "        vertical-align: middle;\n",
       "    }\n",
       "\n",
       "    .dataframe tbody tr th {\n",
       "        vertical-align: top;\n",
       "    }\n",
       "\n",
       "    .dataframe thead th {\n",
       "        text-align: right;\n",
       "    }\n",
       "</style>\n",
       "<table border=\"1\" class=\"dataframe\">\n",
       "  <thead>\n",
       "    <tr style=\"text-align: right;\">\n",
       "      <th></th>\n",
       "      <th>Cluster</th>\n",
       "      <th>char</th>\n",
       "      <th>movie</th>\n",
       "      <th>id</th>\n",
       "      <th>actor</th>\n",
       "    </tr>\n",
       "  </thead>\n",
       "  <tbody>\n",
       "    <tr>\n",
       "      <th>0</th>\n",
       "      <td>absent_minded_professor</td>\n",
       "      <td>Professor Philip Brainard</td>\n",
       "      <td>Flubber</td>\n",
       "      <td>/m/0jy9q0</td>\n",
       "      <td>Robin Williams</td>\n",
       "    </tr>\n",
       "    <tr>\n",
       "      <th>1</th>\n",
       "      <td>absent_minded_professor</td>\n",
       "      <td>Professor Keenbean</td>\n",
       "      <td>Richie Rich</td>\n",
       "      <td>/m/02vchl3</td>\n",
       "      <td>Michael McShane</td>\n",
       "    </tr>\n",
       "    <tr>\n",
       "      <th>2</th>\n",
       "      <td>absent_minded_professor</td>\n",
       "      <td>Dr. Reinhardt Lane</td>\n",
       "      <td>The Shadow</td>\n",
       "      <td>/m/0k6fkc</td>\n",
       "      <td>Ian McKellen</td>\n",
       "    </tr>\n",
       "    <tr>\n",
       "      <th>3</th>\n",
       "      <td>absent_minded_professor</td>\n",
       "      <td>Dr. Harold Medford</td>\n",
       "      <td>Them!</td>\n",
       "      <td>/m/0k6_br</td>\n",
       "      <td>Edmund Gwenn</td>\n",
       "    </tr>\n",
       "    <tr>\n",
       "      <th>4</th>\n",
       "      <td>absent_minded_professor</td>\n",
       "      <td>Daniel Jackson</td>\n",
       "      <td>Stargate</td>\n",
       "      <td>/m/0k3rhh</td>\n",
       "      <td>James Spader</td>\n",
       "    </tr>\n",
       "  </tbody>\n",
       "</table>\n",
       "</div>"
      ],
      "text/plain": [
       "                   Cluster                       char        movie  \\\n",
       "0  absent_minded_professor  Professor Philip Brainard      Flubber   \n",
       "1  absent_minded_professor         Professor Keenbean  Richie Rich   \n",
       "2  absent_minded_professor         Dr. Reinhardt Lane   The Shadow   \n",
       "3  absent_minded_professor         Dr. Harold Medford        Them!   \n",
       "4  absent_minded_professor             Daniel Jackson     Stargate   \n",
       "\n",
       "           id            actor  \n",
       "0   /m/0jy9q0   Robin Williams  \n",
       "1  /m/02vchl3  Michael McShane  \n",
       "2   /m/0k6fkc     Ian McKellen  \n",
       "3   /m/0k6_br     Edmund Gwenn  \n",
       "4   /m/0k3rhh     James Spader  "
      ]
     },
     "execution_count": 4,
     "metadata": {},
     "output_type": "execute_result"
    }
   ],
   "source": [
    "tvt_tropes['json_data'] = tvt_tropes['ID'].apply(json.loads)\n",
    "df_json = pd.json_normalize(tvt_tropes['json_data'])\n",
    "df_json.insert(0, 'Cluster', tvt_tropes['Character type'])\n",
    "df_json.head()\n"
   ]
  },
  {
   "cell_type": "code",
   "execution_count": 5,
   "metadata": {},
   "outputs": [
    {
     "data": {
      "text/html": [
       "<div>\n",
       "<style scoped>\n",
       "    .dataframe tbody tr th:only-of-type {\n",
       "        vertical-align: middle;\n",
       "    }\n",
       "\n",
       "    .dataframe tbody tr th {\n",
       "        vertical-align: top;\n",
       "    }\n",
       "\n",
       "    .dataframe thead th {\n",
       "        text-align: right;\n",
       "    }\n",
       "</style>\n",
       "<table border=\"1\" class=\"dataframe\">\n",
       "  <thead>\n",
       "    <tr style=\"text-align: right;\">\n",
       "      <th></th>\n",
       "      <th>Cluster</th>\n",
       "      <th>char</th>\n",
       "      <th>movie</th>\n",
       "      <th>id</th>\n",
       "      <th>actor</th>\n",
       "      <th>Wikipedia Movie ID</th>\n",
       "      <th>Freebase Movie ID</th>\n",
       "      <th>Movie Date Release</th>\n",
       "      <th>Character Name</th>\n",
       "      <th>Actor DOB</th>\n",
       "      <th>Actor gender</th>\n",
       "      <th>Actor height</th>\n",
       "      <th>Actor ethnicity</th>\n",
       "      <th>Actor Name</th>\n",
       "      <th>Actor age at movie release</th>\n",
       "      <th>Freebase character/actor map ID</th>\n",
       "      <th>Freebase character ID</th>\n",
       "      <th>Freebase actor ID</th>\n",
       "      <th>Movie release Month</th>\n",
       "    </tr>\n",
       "  </thead>\n",
       "  <tbody>\n",
       "    <tr>\n",
       "      <th>0</th>\n",
       "      <td>absent_minded_professor</td>\n",
       "      <td>Professor Philip Brainard</td>\n",
       "      <td>Flubber</td>\n",
       "      <td>/m/0jy9q0</td>\n",
       "      <td>Robin Williams</td>\n",
       "      <td>1344253</td>\n",
       "      <td>/m/04vcfx</td>\n",
       "      <td>1997-11-26</td>\n",
       "      <td>Professor Philip Brainard</td>\n",
       "      <td>1951-07-21</td>\n",
       "      <td>M</td>\n",
       "      <td>1.702</td>\n",
       "      <td>NaN</td>\n",
       "      <td>Robin Williams</td>\n",
       "      <td>46.0</td>\n",
       "      <td>/m/0jy9q0</td>\n",
       "      <td>/m/0cls20k</td>\n",
       "      <td>/m/0dzf_</td>\n",
       "      <td>11</td>\n",
       "    </tr>\n",
       "    <tr>\n",
       "      <th>1</th>\n",
       "      <td>absent_minded_professor</td>\n",
       "      <td>Professor Keenbean</td>\n",
       "      <td>Richie Rich</td>\n",
       "      <td>/m/02vchl3</td>\n",
       "      <td>Michael McShane</td>\n",
       "      <td>1486573</td>\n",
       "      <td>/m/0557n3</td>\n",
       "      <td>1994-12-21</td>\n",
       "      <td>Professor Keenbean</td>\n",
       "      <td>1955-06-25</td>\n",
       "      <td>M</td>\n",
       "      <td>NaN</td>\n",
       "      <td>NaN</td>\n",
       "      <td>Michael McShane</td>\n",
       "      <td>39.0</td>\n",
       "      <td>/m/02vchl3</td>\n",
       "      <td>/m/0h6dygh</td>\n",
       "      <td>/m/05tkfc</td>\n",
       "      <td>12</td>\n",
       "    </tr>\n",
       "    <tr>\n",
       "      <th>2</th>\n",
       "      <td>absent_minded_professor</td>\n",
       "      <td>Dr. Reinhardt Lane</td>\n",
       "      <td>The Shadow</td>\n",
       "      <td>/m/0k6fkc</td>\n",
       "      <td>Ian McKellen</td>\n",
       "      <td>5991505</td>\n",
       "      <td>/m/0fjjjh</td>\n",
       "      <td>1994-07-01</td>\n",
       "      <td>Dr. Reinhardt Lane</td>\n",
       "      <td>1939-05-25</td>\n",
       "      <td>M</td>\n",
       "      <td>1.800</td>\n",
       "      <td>NaN</td>\n",
       "      <td>Ian McKellen</td>\n",
       "      <td>55.0</td>\n",
       "      <td>/m/0k6fkc</td>\n",
       "      <td>/m/0gynqd6</td>\n",
       "      <td>/m/03ym1</td>\n",
       "      <td>07</td>\n",
       "    </tr>\n",
       "    <tr>\n",
       "      <th>3</th>\n",
       "      <td>absent_minded_professor</td>\n",
       "      <td>Dr. Harold Medford</td>\n",
       "      <td>Them!</td>\n",
       "      <td>/m/0k6_br</td>\n",
       "      <td>Edmund Gwenn</td>\n",
       "      <td>605676</td>\n",
       "      <td>/m/02vt5c</td>\n",
       "      <td>1954-06-16</td>\n",
       "      <td>Dr. Harold Medford</td>\n",
       "      <td>1877-09-26</td>\n",
       "      <td>M</td>\n",
       "      <td>NaN</td>\n",
       "      <td>NaN</td>\n",
       "      <td>Edmund Gwenn</td>\n",
       "      <td>NaN</td>\n",
       "      <td>/m/0k6_br</td>\n",
       "      <td>/m/0h5whpq</td>\n",
       "      <td>/m/03bpcj</td>\n",
       "      <td>06</td>\n",
       "    </tr>\n",
       "    <tr>\n",
       "      <th>4</th>\n",
       "      <td>absent_minded_professor</td>\n",
       "      <td>Daniel Jackson</td>\n",
       "      <td>Stargate</td>\n",
       "      <td>/m/0k3rhh</td>\n",
       "      <td>James Spader</td>\n",
       "      <td>28327</td>\n",
       "      <td>/m/070g7</td>\n",
       "      <td>1994-10-28</td>\n",
       "      <td>Daniel Jackson</td>\n",
       "      <td>1960-02-07</td>\n",
       "      <td>M</td>\n",
       "      <td>1.780</td>\n",
       "      <td>NaN</td>\n",
       "      <td>James Spader</td>\n",
       "      <td>34.0</td>\n",
       "      <td>/m/0k3rhh</td>\n",
       "      <td>/m/02qs1z</td>\n",
       "      <td>/m/043js</td>\n",
       "      <td>10</td>\n",
       "    </tr>\n",
       "    <tr>\n",
       "      <th>...</th>\n",
       "      <td>...</td>\n",
       "      <td>...</td>\n",
       "      <td>...</td>\n",
       "      <td>...</td>\n",
       "      <td>...</td>\n",
       "      <td>...</td>\n",
       "      <td>...</td>\n",
       "      <td>...</td>\n",
       "      <td>...</td>\n",
       "      <td>...</td>\n",
       "      <td>...</td>\n",
       "      <td>...</td>\n",
       "      <td>...</td>\n",
       "      <td>...</td>\n",
       "      <td>...</td>\n",
       "      <td>...</td>\n",
       "      <td>...</td>\n",
       "      <td>...</td>\n",
       "      <td>...</td>\n",
       "    </tr>\n",
       "    <tr>\n",
       "      <th>477</th>\n",
       "      <td>young_gun</td>\n",
       "      <td>Morgan Earp</td>\n",
       "      <td>Tombstone</td>\n",
       "      <td>/m/0k776f</td>\n",
       "      <td>Bill Paxton</td>\n",
       "      <td>525113</td>\n",
       "      <td>/m/02ljhg</td>\n",
       "      <td>1993-12-25</td>\n",
       "      <td>Morgan Earp</td>\n",
       "      <td>1955-05-17</td>\n",
       "      <td>M</td>\n",
       "      <td>1.800</td>\n",
       "      <td>NaN</td>\n",
       "      <td>Bill Paxton</td>\n",
       "      <td>38.0</td>\n",
       "      <td>/m/0k776f</td>\n",
       "      <td>/m/0h2kg3k</td>\n",
       "      <td>/m/01s7zw</td>\n",
       "      <td>12</td>\n",
       "    </tr>\n",
       "    <tr>\n",
       "      <th>478</th>\n",
       "      <td>young_gun</td>\n",
       "      <td>Colorado Ryan</td>\n",
       "      <td>Rio Bravo</td>\n",
       "      <td>/m/0k2kqg</td>\n",
       "      <td>Ricky Nelson</td>\n",
       "      <td>81100</td>\n",
       "      <td>/m/0kyjk</td>\n",
       "      <td>1959-03-18</td>\n",
       "      <td>Colorado Ryan</td>\n",
       "      <td>1940-05-08</td>\n",
       "      <td>M</td>\n",
       "      <td>1.820</td>\n",
       "      <td>/m/065b6q</td>\n",
       "      <td>Ricky Nelson</td>\n",
       "      <td>18.0</td>\n",
       "      <td>/m/0k2kqg</td>\n",
       "      <td>/m/0hgx0j0</td>\n",
       "      <td>/m/01wj92r</td>\n",
       "      <td>03</td>\n",
       "    </tr>\n",
       "    <tr>\n",
       "      <th>479</th>\n",
       "      <td>young_gun</td>\n",
       "      <td>Tom Sawyer</td>\n",
       "      <td>The League of Extraordinary Gentlemen</td>\n",
       "      <td>/m/0k5nsh</td>\n",
       "      <td>Shane West</td>\n",
       "      <td>4138142</td>\n",
       "      <td>/m/0bl3nn</td>\n",
       "      <td>2003-07-11</td>\n",
       "      <td>Tom Sawyer</td>\n",
       "      <td>1978-06-10</td>\n",
       "      <td>M</td>\n",
       "      <td>1.820</td>\n",
       "      <td>/m/0fqz6</td>\n",
       "      <td>Shane West</td>\n",
       "      <td>25.0</td>\n",
       "      <td>/m/0k5nsh</td>\n",
       "      <td>/m/0c1sd26</td>\n",
       "      <td>/m/054v2v</td>\n",
       "      <td>07</td>\n",
       "    </tr>\n",
       "    <tr>\n",
       "      <th>480</th>\n",
       "      <td>young_gun</td>\n",
       "      <td>William H. 'Billy the Kid' Bonney</td>\n",
       "      <td>Young Guns II</td>\n",
       "      <td>/m/03lrjk0</td>\n",
       "      <td>Emilio Estevez</td>\n",
       "      <td>675213</td>\n",
       "      <td>/m/031zk3</td>\n",
       "      <td>1990-08-01</td>\n",
       "      <td>William H. 'Billy the Kid' Bonney</td>\n",
       "      <td>1962-05-12</td>\n",
       "      <td>M</td>\n",
       "      <td>1.638</td>\n",
       "      <td>/m/042gtr</td>\n",
       "      <td>Emilio Estevez</td>\n",
       "      <td>28.0</td>\n",
       "      <td>/m/03lrjk0</td>\n",
       "      <td>/m/0gyhwpk</td>\n",
       "      <td>/m/01z7s_</td>\n",
       "      <td>08</td>\n",
       "    </tr>\n",
       "    <tr>\n",
       "      <th>481</th>\n",
       "      <td>young_gun</td>\n",
       "      <td>Jake</td>\n",
       "      <td>Silverado</td>\n",
       "      <td>/m/0k39jj</td>\n",
       "      <td>Kevin Costner</td>\n",
       "      <td>2087781</td>\n",
       "      <td>/m/06l9q0</td>\n",
       "      <td>1985-07-10</td>\n",
       "      <td>Jake</td>\n",
       "      <td>1955-01-18</td>\n",
       "      <td>M</td>\n",
       "      <td>1.850</td>\n",
       "      <td>/m/09vc4s</td>\n",
       "      <td>Kevin Costner</td>\n",
       "      <td>30.0</td>\n",
       "      <td>/m/0k39jj</td>\n",
       "      <td>/m/0g_vt8w</td>\n",
       "      <td>/m/0127m7</td>\n",
       "      <td>07</td>\n",
       "    </tr>\n",
       "  </tbody>\n",
       "</table>\n",
       "<p>482 rows × 19 columns</p>\n",
       "</div>"
      ],
      "text/plain": [
       "                     Cluster                               char  \\\n",
       "0    absent_minded_professor          Professor Philip Brainard   \n",
       "1    absent_minded_professor                 Professor Keenbean   \n",
       "2    absent_minded_professor                 Dr. Reinhardt Lane   \n",
       "3    absent_minded_professor                 Dr. Harold Medford   \n",
       "4    absent_minded_professor                     Daniel Jackson   \n",
       "..                       ...                                ...   \n",
       "477                young_gun                        Morgan Earp   \n",
       "478                young_gun                      Colorado Ryan   \n",
       "479                young_gun                         Tom Sawyer   \n",
       "480                young_gun  William H. 'Billy the Kid' Bonney   \n",
       "481                young_gun                               Jake   \n",
       "\n",
       "                                     movie          id            actor  \\\n",
       "0                                  Flubber   /m/0jy9q0   Robin Williams   \n",
       "1                              Richie Rich  /m/02vchl3  Michael McShane   \n",
       "2                               The Shadow   /m/0k6fkc     Ian McKellen   \n",
       "3                                    Them!   /m/0k6_br     Edmund Gwenn   \n",
       "4                                 Stargate   /m/0k3rhh     James Spader   \n",
       "..                                     ...         ...              ...   \n",
       "477                              Tombstone   /m/0k776f      Bill Paxton   \n",
       "478                              Rio Bravo   /m/0k2kqg     Ricky Nelson   \n",
       "479  The League of Extraordinary Gentlemen   /m/0k5nsh       Shane West   \n",
       "480                          Young Guns II  /m/03lrjk0   Emilio Estevez   \n",
       "481                              Silverado   /m/0k39jj    Kevin Costner   \n",
       "\n",
       "     Wikipedia Movie ID Freebase Movie ID Movie Date Release  \\\n",
       "0               1344253         /m/04vcfx         1997-11-26   \n",
       "1               1486573         /m/0557n3         1994-12-21   \n",
       "2               5991505         /m/0fjjjh         1994-07-01   \n",
       "3                605676         /m/02vt5c         1954-06-16   \n",
       "4                 28327          /m/070g7         1994-10-28   \n",
       "..                  ...               ...                ...   \n",
       "477              525113         /m/02ljhg         1993-12-25   \n",
       "478               81100          /m/0kyjk         1959-03-18   \n",
       "479             4138142         /m/0bl3nn         2003-07-11   \n",
       "480              675213         /m/031zk3         1990-08-01   \n",
       "481             2087781         /m/06l9q0         1985-07-10   \n",
       "\n",
       "                        Character Name   Actor DOB Actor gender  Actor height  \\\n",
       "0            Professor Philip Brainard  1951-07-21            M         1.702   \n",
       "1                   Professor Keenbean  1955-06-25            M           NaN   \n",
       "2                   Dr. Reinhardt Lane  1939-05-25            M         1.800   \n",
       "3                   Dr. Harold Medford  1877-09-26            M           NaN   \n",
       "4                       Daniel Jackson  1960-02-07            M         1.780   \n",
       "..                                 ...         ...          ...           ...   \n",
       "477                        Morgan Earp  1955-05-17            M         1.800   \n",
       "478                      Colorado Ryan  1940-05-08            M         1.820   \n",
       "479                         Tom Sawyer  1978-06-10            M         1.820   \n",
       "480  William H. 'Billy the Kid' Bonney  1962-05-12            M         1.638   \n",
       "481                               Jake  1955-01-18            M         1.850   \n",
       "\n",
       "    Actor ethnicity       Actor Name  Actor age at movie release  \\\n",
       "0               NaN   Robin Williams                        46.0   \n",
       "1               NaN  Michael McShane                        39.0   \n",
       "2               NaN     Ian McKellen                        55.0   \n",
       "3               NaN     Edmund Gwenn                         NaN   \n",
       "4               NaN     James Spader                        34.0   \n",
       "..              ...              ...                         ...   \n",
       "477             NaN      Bill Paxton                        38.0   \n",
       "478       /m/065b6q     Ricky Nelson                        18.0   \n",
       "479        /m/0fqz6       Shane West                        25.0   \n",
       "480       /m/042gtr   Emilio Estevez                        28.0   \n",
       "481       /m/09vc4s    Kevin Costner                        30.0   \n",
       "\n",
       "    Freebase character/actor map ID Freebase character ID Freebase actor ID  \\\n",
       "0                         /m/0jy9q0            /m/0cls20k          /m/0dzf_   \n",
       "1                        /m/02vchl3            /m/0h6dygh         /m/05tkfc   \n",
       "2                         /m/0k6fkc            /m/0gynqd6          /m/03ym1   \n",
       "3                         /m/0k6_br            /m/0h5whpq         /m/03bpcj   \n",
       "4                         /m/0k3rhh             /m/02qs1z          /m/043js   \n",
       "..                              ...                   ...               ...   \n",
       "477                       /m/0k776f            /m/0h2kg3k         /m/01s7zw   \n",
       "478                       /m/0k2kqg            /m/0hgx0j0        /m/01wj92r   \n",
       "479                       /m/0k5nsh            /m/0c1sd26         /m/054v2v   \n",
       "480                      /m/03lrjk0            /m/0gyhwpk         /m/01z7s_   \n",
       "481                       /m/0k39jj            /m/0g_vt8w         /m/0127m7   \n",
       "\n",
       "    Movie release Month  \n",
       "0                    11  \n",
       "1                    12  \n",
       "2                    07  \n",
       "3                    06  \n",
       "4                    10  \n",
       "..                  ...  \n",
       "477                  12  \n",
       "478                  03  \n",
       "479                  07  \n",
       "480                  08  \n",
       "481                  07  \n",
       "\n",
       "[482 rows x 19 columns]"
      ]
     },
     "metadata": {},
     "output_type": "display_data"
    }
   ],
   "source": [
    "df_merged = df_json.merge(df_char , left_on='id', right_on='Freebase character/actor map ID', how='inner')\n",
    "display(df_merged)"
   ]
  },
  {
   "cell_type": "code",
   "execution_count": 6,
   "metadata": {},
   "outputs": [
    {
     "name": "stdout",
     "output_type": "stream",
     "text": [
      "Empty DataFrame\n",
      "Columns: [Cluster, char, movie, id, actor, Wikipedia Movie ID, Freebase Movie ID, Movie Date Release, Character Name, Actor DOB, Actor gender, Actor height, Actor ethnicity, Actor Name, Actor age at movie release, Freebase character/actor map ID, Freebase character ID, Freebase actor ID, Movie release Month]\n",
      "Index: []\n"
     ]
    }
   ],
   "source": [
    "duplicates = df_merged[df_merged.duplicated()]\n",
    "\n",
    "# Afficher les lignes en double\n",
    "print(duplicates)"
   ]
  },
  {
   "cell_type": "code",
   "execution_count": 7,
   "metadata": {},
   "outputs": [
    {
     "data": {
      "text/html": [
       "<div>\n",
       "<style scoped>\n",
       "    .dataframe tbody tr th:only-of-type {\n",
       "        vertical-align: middle;\n",
       "    }\n",
       "\n",
       "    .dataframe tbody tr th {\n",
       "        vertical-align: top;\n",
       "    }\n",
       "\n",
       "    .dataframe thead th {\n",
       "        text-align: right;\n",
       "    }\n",
       "</style>\n",
       "<table border=\"1\" class=\"dataframe\">\n",
       "  <thead>\n",
       "    <tr style=\"text-align: right;\">\n",
       "      <th></th>\n",
       "      <th>Cluster</th>\n",
       "      <th>Movie release Month</th>\n",
       "    </tr>\n",
       "  </thead>\n",
       "  <tbody>\n",
       "    <tr>\n",
       "      <th>0</th>\n",
       "      <td>absent_minded_professor</td>\n",
       "      <td>11</td>\n",
       "    </tr>\n",
       "    <tr>\n",
       "      <th>1</th>\n",
       "      <td>absent_minded_professor</td>\n",
       "      <td>12</td>\n",
       "    </tr>\n",
       "    <tr>\n",
       "      <th>2</th>\n",
       "      <td>absent_minded_professor</td>\n",
       "      <td>07</td>\n",
       "    </tr>\n",
       "    <tr>\n",
       "      <th>3</th>\n",
       "      <td>absent_minded_professor</td>\n",
       "      <td>06</td>\n",
       "    </tr>\n",
       "    <tr>\n",
       "      <th>4</th>\n",
       "      <td>absent_minded_professor</td>\n",
       "      <td>10</td>\n",
       "    </tr>\n",
       "    <tr>\n",
       "      <th>...</th>\n",
       "      <td>...</td>\n",
       "      <td>...</td>\n",
       "    </tr>\n",
       "    <tr>\n",
       "      <th>477</th>\n",
       "      <td>young_gun</td>\n",
       "      <td>12</td>\n",
       "    </tr>\n",
       "    <tr>\n",
       "      <th>478</th>\n",
       "      <td>young_gun</td>\n",
       "      <td>03</td>\n",
       "    </tr>\n",
       "    <tr>\n",
       "      <th>479</th>\n",
       "      <td>young_gun</td>\n",
       "      <td>07</td>\n",
       "    </tr>\n",
       "    <tr>\n",
       "      <th>480</th>\n",
       "      <td>young_gun</td>\n",
       "      <td>08</td>\n",
       "    </tr>\n",
       "    <tr>\n",
       "      <th>481</th>\n",
       "      <td>young_gun</td>\n",
       "      <td>07</td>\n",
       "    </tr>\n",
       "  </tbody>\n",
       "</table>\n",
       "<p>482 rows × 2 columns</p>\n",
       "</div>"
      ],
      "text/plain": [
       "                     Cluster Movie release Month\n",
       "0    absent_minded_professor                  11\n",
       "1    absent_minded_professor                  12\n",
       "2    absent_minded_professor                  07\n",
       "3    absent_minded_professor                  06\n",
       "4    absent_minded_professor                  10\n",
       "..                       ...                 ...\n",
       "477                young_gun                  12\n",
       "478                young_gun                  03\n",
       "479                young_gun                  07\n",
       "480                young_gun                  08\n",
       "481                young_gun                  07\n",
       "\n",
       "[482 rows x 2 columns]"
      ]
     },
     "metadata": {},
     "output_type": "display_data"
    }
   ],
   "source": [
    "df_final = df_merged[['Cluster', 'Movie release Month']]\n",
    "display(df_final)"
   ]
  },
  {
   "cell_type": "code",
   "execution_count": 38,
   "metadata": {},
   "outputs": [
    {
     "data": {
      "image/png": "[encoded data removed]",
      "text/plain": [
       "<Figure size 1200x600 with 1 Axes>"
      ]
     },
     "metadata": {},
     "output_type": "display_data"
    }
   ],
   "source": [
    "  # Pour des graphiques plus stylisés\n",
    "\n",
    "# Supposons que df soit votre DataFrame fusionnée avec les informations nécessaires\n",
    "# Assurez-vous d'avoir une colonne représentant les mois et une colonne pour les personnages types\n",
    "\n",
    "# Créez un diagramme à barres pour montrer la distribution des personnages par mois\n",
    "plt.figure(figsize=(12, 6))\n",
    "sns.countplot(x='Movie release Month', data=df_final, hue='Cluster', palette='viridis')\n",
    "\n",
    "# Réglez les étiquettes et le titre\n",
    "plt.xlabel('Mois')\n",
    "plt.ylabel('Nombre de personnages')\n",
    "plt.title('Distribution des personnages par mois')\n",
    "\n",
    "# Affichez la légende\n",
    "plt.legend(title='Personnage Type', bbox_to_anchor=(1.05, 1), loc='upper left')\n",
    "\n",
    "# Affichez le diagramme\n",
    "plt.show()"
   ]
  },
  {
   "cell_type": "code",
   "execution_count": 39,
   "metadata": {},
   "outputs": [
    {
     "data": {
      "image/png": "[encoded data removed]",
      "text/plain": [
       "<Figure size 1200x600 with 1 Axes>"
      ]
     },
     "metadata": {},
     "output_type": "display_data"
    }
   ],
   "source": [
    "order_mois = [\"janvier\", \"février\", \"mars\", \"avril\", \"mai\", \"juin\", \"juillet\", \"août\", \"septembre\", \"octobre\", \"novembre\", \"décembre\"]\n",
    "\n",
    "# Filtrer pour inclure seulement les 10 types de personnages les plus présents\n",
    "top_10_types = df_final['Cluster'].value_counts().nlargest(10).index\n",
    "df_filtered = df_final[df_final['Cluster'].isin(top_10_types)]\n",
    "\n",
    "# Créer un diagramme à barres\n",
    "plt.figure(figsize=(12, 6))\n",
    "sns.countplot(x='Movie release Month', data=df_filtered, hue='Cluster', palette='viridis')\n",
    "\n",
    "# Réglez les étiquettes et le titre\n",
    "plt.xlabel('Mois')\n",
    "plt.ylabel('Nombre de personnages')\n",
    "plt.title('Distribution des 10 types de personnages les plus présents par mois')\n",
    "\n",
    "# Affichez la légende\n",
    "plt.legend(title='Personnage Type', bbox_to_anchor=(1.05, 1), loc='upper left')\n",
    "\n",
    "# Affichez le diagramme\n",
    "plt.show()"
   ]
  },
  {
   "cell_type": "code",
   "execution_count": 40,
   "metadata": {},
   "outputs": [
    {
     "data": {
      "image/png": "[encoded data removed]",
      "text/plain": [
       "<Figure size 1200x600 with 1 Axes>"
      ]
     },
     "metadata": {},
     "output_type": "display_data"
    }
   ],
   "source": [
    "order_mois = [\"janvier\", \"février\", \"mars\", \"avril\", \"mai\", \"juin\", \"juillet\", \"août\", \"septembre\", \"octobre\", \"novembre\", \"décembre\"]\n",
    "\n",
    "# Groupby par mois et Cluster, puis comptez les occurrences\n",
    "top_5_per_month = df_final.groupby(['Movie release Month', 'Cluster']).size().groupby('Movie release Month').nlargest(5).reset_index(level=0, drop=True).reset_index(name='Count')\n",
    "\n",
    "# Créer un diagramme à barres\n",
    "plt.figure(figsize=(12, 6))\n",
    "sns.barplot(x='Movie release Month', y='Count', hue='Cluster', data=top_5_per_month, palette='viridis')\n",
    "\n",
    "# Réglez les étiquettes et le titre\n",
    "plt.xlabel('Mois')\n",
    "plt.ylabel('Nombre de personnages')\n",
    "plt.title('Les 5 types de personnages les plus présents par mois')\n",
    "\n",
    "# Affichez la légende\n",
    "plt.legend(title='Personnage Type', bbox_to_anchor=(1.05, 1), loc='upper left')\n",
    "\n",
    "# Affichez le diagramme\n",
    "plt.show()"
   ]
  },
  {
   "cell_type": "code",
   "execution_count": 42,
   "metadata": {},
   "outputs": [
    {
     "data": {
      "text/html": [
       "<div>\n",
       "<style scoped>\n",
       "    .dataframe tbody tr th:only-of-type {\n",
       "        vertical-align: middle;\n",
       "    }\n",
       "\n",
       "    .dataframe tbody tr th {\n",
       "        vertical-align: top;\n",
       "    }\n",
       "\n",
       "    .dataframe thead th {\n",
       "        text-align: right;\n",
       "    }\n",
       "</style>\n",
       "<table border=\"1\" class=\"dataframe\">\n",
       "  <thead>\n",
       "    <tr style=\"text-align: right;\">\n",
       "      <th>Cluster</th>\n",
       "      <th>absent_minded_professor</th>\n",
       "      <th>adventurer_archaeologist</th>\n",
       "      <th>arrogant_kungfu_guy</th>\n",
       "      <th>big_man_on_campus</th>\n",
       "      <th>bounty_hunter</th>\n",
       "      <th>brainless_beauty</th>\n",
       "      <th>broken_bird</th>\n",
       "      <th>bromantic_foil</th>\n",
       "      <th>bruiser_with_a_soft_center</th>\n",
       "      <th>bully</th>\n",
       "      <th>...</th>\n",
       "      <th>storyteller</th>\n",
       "      <th>stupid_crooks</th>\n",
       "      <th>surfer_dude</th>\n",
       "      <th>the_chief</th>\n",
       "      <th>the_editor</th>\n",
       "      <th>tranquil_fury</th>\n",
       "      <th>trickster</th>\n",
       "      <th>valley_girl</th>\n",
       "      <th>warrior_poet</th>\n",
       "      <th>young_gun</th>\n",
       "    </tr>\n",
       "    <tr>\n",
       "      <th>Movie release Month</th>\n",
       "      <th></th>\n",
       "      <th></th>\n",
       "      <th></th>\n",
       "      <th></th>\n",
       "      <th></th>\n",
       "      <th></th>\n",
       "      <th></th>\n",
       "      <th></th>\n",
       "      <th></th>\n",
       "      <th></th>\n",
       "      <th></th>\n",
       "      <th></th>\n",
       "      <th></th>\n",
       "      <th></th>\n",
       "      <th></th>\n",
       "      <th></th>\n",
       "      <th></th>\n",
       "      <th></th>\n",
       "      <th></th>\n",
       "      <th></th>\n",
       "      <th></th>\n",
       "    </tr>\n",
       "  </thead>\n",
       "  <tbody>\n",
       "    <tr>\n",
       "      <th>01</th>\n",
       "      <td>0</td>\n",
       "      <td>0</td>\n",
       "      <td>1</td>\n",
       "      <td>1</td>\n",
       "      <td>0</td>\n",
       "      <td>1</td>\n",
       "      <td>0</td>\n",
       "      <td>2</td>\n",
       "      <td>0</td>\n",
       "      <td>0</td>\n",
       "      <td>...</td>\n",
       "      <td>0</td>\n",
       "      <td>0</td>\n",
       "      <td>1</td>\n",
       "      <td>1</td>\n",
       "      <td>1</td>\n",
       "      <td>0</td>\n",
       "      <td>0</td>\n",
       "      <td>0</td>\n",
       "      <td>0</td>\n",
       "      <td>0</td>\n",
       "    </tr>\n",
       "    <tr>\n",
       "      <th>02</th>\n",
       "      <td>0</td>\n",
       "      <td>0</td>\n",
       "      <td>0</td>\n",
       "      <td>0</td>\n",
       "      <td>0</td>\n",
       "      <td>3</td>\n",
       "      <td>0</td>\n",
       "      <td>0</td>\n",
       "      <td>0</td>\n",
       "      <td>0</td>\n",
       "      <td>...</td>\n",
       "      <td>0</td>\n",
       "      <td>0</td>\n",
       "      <td>2</td>\n",
       "      <td>0</td>\n",
       "      <td>0</td>\n",
       "      <td>0</td>\n",
       "      <td>0</td>\n",
       "      <td>0</td>\n",
       "      <td>0</td>\n",
       "      <td>0</td>\n",
       "    </tr>\n",
       "    <tr>\n",
       "      <th>03</th>\n",
       "      <td>0</td>\n",
       "      <td>0</td>\n",
       "      <td>0</td>\n",
       "      <td>0</td>\n",
       "      <td>2</td>\n",
       "      <td>0</td>\n",
       "      <td>1</td>\n",
       "      <td>1</td>\n",
       "      <td>1</td>\n",
       "      <td>0</td>\n",
       "      <td>...</td>\n",
       "      <td>0</td>\n",
       "      <td>1</td>\n",
       "      <td>0</td>\n",
       "      <td>0</td>\n",
       "      <td>0</td>\n",
       "      <td>0</td>\n",
       "      <td>0</td>\n",
       "      <td>0</td>\n",
       "      <td>1</td>\n",
       "      <td>1</td>\n",
       "    </tr>\n",
       "    <tr>\n",
       "      <th>04</th>\n",
       "      <td>0</td>\n",
       "      <td>1</td>\n",
       "      <td>1</td>\n",
       "      <td>3</td>\n",
       "      <td>0</td>\n",
       "      <td>1</td>\n",
       "      <td>1</td>\n",
       "      <td>0</td>\n",
       "      <td>0</td>\n",
       "      <td>0</td>\n",
       "      <td>...</td>\n",
       "      <td>0</td>\n",
       "      <td>0</td>\n",
       "      <td>0</td>\n",
       "      <td>0</td>\n",
       "      <td>1</td>\n",
       "      <td>0</td>\n",
       "      <td>0</td>\n",
       "      <td>2</td>\n",
       "      <td>0</td>\n",
       "      <td>0</td>\n",
       "    </tr>\n",
       "    <tr>\n",
       "      <th>05</th>\n",
       "      <td>0</td>\n",
       "      <td>2</td>\n",
       "      <td>3</td>\n",
       "      <td>0</td>\n",
       "      <td>0</td>\n",
       "      <td>1</td>\n",
       "      <td>0</td>\n",
       "      <td>1</td>\n",
       "      <td>0</td>\n",
       "      <td>0</td>\n",
       "      <td>...</td>\n",
       "      <td>0</td>\n",
       "      <td>1</td>\n",
       "      <td>2</td>\n",
       "      <td>0</td>\n",
       "      <td>0</td>\n",
       "      <td>3</td>\n",
       "      <td>3</td>\n",
       "      <td>0</td>\n",
       "      <td>2</td>\n",
       "      <td>0</td>\n",
       "    </tr>\n",
       "    <tr>\n",
       "      <th>06</th>\n",
       "      <td>1</td>\n",
       "      <td>1</td>\n",
       "      <td>1</td>\n",
       "      <td>1</td>\n",
       "      <td>3</td>\n",
       "      <td>1</td>\n",
       "      <td>2</td>\n",
       "      <td>0</td>\n",
       "      <td>0</td>\n",
       "      <td>0</td>\n",
       "      <td>...</td>\n",
       "      <td>0</td>\n",
       "      <td>0</td>\n",
       "      <td>2</td>\n",
       "      <td>0</td>\n",
       "      <td>0</td>\n",
       "      <td>0</td>\n",
       "      <td>1</td>\n",
       "      <td>2</td>\n",
       "      <td>1</td>\n",
       "      <td>0</td>\n",
       "    </tr>\n",
       "    <tr>\n",
       "      <th>07</th>\n",
       "      <td>1</td>\n",
       "      <td>0</td>\n",
       "      <td>1</td>\n",
       "      <td>1</td>\n",
       "      <td>1</td>\n",
       "      <td>1</td>\n",
       "      <td>0</td>\n",
       "      <td>0</td>\n",
       "      <td>1</td>\n",
       "      <td>1</td>\n",
       "      <td>...</td>\n",
       "      <td>0</td>\n",
       "      <td>0</td>\n",
       "      <td>1</td>\n",
       "      <td>0</td>\n",
       "      <td>0</td>\n",
       "      <td>0</td>\n",
       "      <td>0</td>\n",
       "      <td>2</td>\n",
       "      <td>0</td>\n",
       "      <td>2</td>\n",
       "    </tr>\n",
       "    <tr>\n",
       "      <th>08</th>\n",
       "      <td>0</td>\n",
       "      <td>0</td>\n",
       "      <td>1</td>\n",
       "      <td>0</td>\n",
       "      <td>0</td>\n",
       "      <td>1</td>\n",
       "      <td>0</td>\n",
       "      <td>0</td>\n",
       "      <td>0</td>\n",
       "      <td>0</td>\n",
       "      <td>...</td>\n",
       "      <td>0</td>\n",
       "      <td>3</td>\n",
       "      <td>1</td>\n",
       "      <td>0</td>\n",
       "      <td>0</td>\n",
       "      <td>0</td>\n",
       "      <td>0</td>\n",
       "      <td>0</td>\n",
       "      <td>1</td>\n",
       "      <td>1</td>\n",
       "    </tr>\n",
       "    <tr>\n",
       "      <th>09</th>\n",
       "      <td>0</td>\n",
       "      <td>0</td>\n",
       "      <td>0</td>\n",
       "      <td>0</td>\n",
       "      <td>1</td>\n",
       "      <td>2</td>\n",
       "      <td>1</td>\n",
       "      <td>0</td>\n",
       "      <td>0</td>\n",
       "      <td>0</td>\n",
       "      <td>...</td>\n",
       "      <td>1</td>\n",
       "      <td>0</td>\n",
       "      <td>0</td>\n",
       "      <td>0</td>\n",
       "      <td>0</td>\n",
       "      <td>1</td>\n",
       "      <td>1</td>\n",
       "      <td>0</td>\n",
       "      <td>0</td>\n",
       "      <td>0</td>\n",
       "    </tr>\n",
       "    <tr>\n",
       "      <th>10</th>\n",
       "      <td>1</td>\n",
       "      <td>0</td>\n",
       "      <td>0</td>\n",
       "      <td>0</td>\n",
       "      <td>0</td>\n",
       "      <td>1</td>\n",
       "      <td>0</td>\n",
       "      <td>1</td>\n",
       "      <td>0</td>\n",
       "      <td>1</td>\n",
       "      <td>...</td>\n",
       "      <td>0</td>\n",
       "      <td>0</td>\n",
       "      <td>0</td>\n",
       "      <td>0</td>\n",
       "      <td>0</td>\n",
       "      <td>0</td>\n",
       "      <td>0</td>\n",
       "      <td>0</td>\n",
       "      <td>1</td>\n",
       "      <td>1</td>\n",
       "    </tr>\n",
       "    <tr>\n",
       "      <th>11</th>\n",
       "      <td>1</td>\n",
       "      <td>0</td>\n",
       "      <td>1</td>\n",
       "      <td>0</td>\n",
       "      <td>0</td>\n",
       "      <td>0</td>\n",
       "      <td>0</td>\n",
       "      <td>0</td>\n",
       "      <td>1</td>\n",
       "      <td>1</td>\n",
       "      <td>...</td>\n",
       "      <td>0</td>\n",
       "      <td>0</td>\n",
       "      <td>0</td>\n",
       "      <td>0</td>\n",
       "      <td>0</td>\n",
       "      <td>2</td>\n",
       "      <td>0</td>\n",
       "      <td>0</td>\n",
       "      <td>1</td>\n",
       "      <td>0</td>\n",
       "    </tr>\n",
       "    <tr>\n",
       "      <th>12</th>\n",
       "      <td>1</td>\n",
       "      <td>0</td>\n",
       "      <td>0</td>\n",
       "      <td>1</td>\n",
       "      <td>1</td>\n",
       "      <td>0</td>\n",
       "      <td>0</td>\n",
       "      <td>0</td>\n",
       "      <td>0</td>\n",
       "      <td>0</td>\n",
       "      <td>...</td>\n",
       "      <td>2</td>\n",
       "      <td>0</td>\n",
       "      <td>0</td>\n",
       "      <td>2</td>\n",
       "      <td>0</td>\n",
       "      <td>1</td>\n",
       "      <td>0</td>\n",
       "      <td>0</td>\n",
       "      <td>1</td>\n",
       "      <td>1</td>\n",
       "    </tr>\n",
       "  </tbody>\n",
       "</table>\n",
       "<p>12 rows × 72 columns</p>\n",
       "</div>"
      ],
      "text/plain": [
       "Cluster              absent_minded_professor  adventurer_archaeologist  \\\n",
       "Movie release Month                                                      \n",
       "01                                         0                         0   \n",
       "02                                         0                         0   \n",
       "03                                         0                         0   \n",
       "04                                         0                         1   \n",
       "05                                         0                         2   \n",
       "06                                         1                         1   \n",
       "07                                         1                         0   \n",
       "08                                         0                         0   \n",
       "09                                         0                         0   \n",
       "10                                         1                         0   \n",
       "11                                         1                         0   \n",
       "12                                         1                         0   \n",
       "\n",
       "Cluster              arrogant_kungfu_guy  big_man_on_campus  bounty_hunter  \\\n",
       "Movie release Month                                                          \n",
       "01                                     1                  1              0   \n",
       "02                                     0                  0              0   \n",
       "03                                     0                  0              2   \n",
       "04                                     1                  3              0   \n",
       "05                                     3                  0              0   \n",
       "06                                     1                  1              3   \n",
       "07                                     1                  1              1   \n",
       "08                                     1                  0              0   \n",
       "09                                     0                  0              1   \n",
       "10                                     0                  0              0   \n",
       "11                                     1                  0              0   \n",
       "12                                     0                  1              1   \n",
       "\n",
       "Cluster              brainless_beauty  broken_bird  bromantic_foil  \\\n",
       "Movie release Month                                                  \n",
       "01                                  1            0               2   \n",
       "02                                  3            0               0   \n",
       "03                                  0            1               1   \n",
       "04                                  1            1               0   \n",
       "05                                  1            0               1   \n",
       "06                                  1            2               0   \n",
       "07                                  1            0               0   \n",
       "08                                  1            0               0   \n",
       "09                                  2            1               0   \n",
       "10                                  1            0               1   \n",
       "11                                  0            0               0   \n",
       "12                                  0            0               0   \n",
       "\n",
       "Cluster              bruiser_with_a_soft_center  bully  ...  storyteller  \\\n",
       "Movie release Month                                     ...                \n",
       "01                                            0      0  ...            0   \n",
       "02                                            0      0  ...            0   \n",
       "03                                            1      0  ...            0   \n",
       "04                                            0      0  ...            0   \n",
       "05                                            0      0  ...            0   \n",
       "06                                            0      0  ...            0   \n",
       "07                                            1      1  ...            0   \n",
       "08                                            0      0  ...            0   \n",
       "09                                            0      0  ...            1   \n",
       "10                                            0      1  ...            0   \n",
       "11                                            1      1  ...            0   \n",
       "12                                            0      0  ...            2   \n",
       "\n",
       "Cluster              stupid_crooks  surfer_dude  the_chief  the_editor  \\\n",
       "Movie release Month                                                      \n",
       "01                               0            1          1           1   \n",
       "02                               0            2          0           0   \n",
       "03                               1            0          0           0   \n",
       "04                               0            0          0           1   \n",
       "05                               1            2          0           0   \n",
       "06                               0            2          0           0   \n",
       "07                               0            1          0           0   \n",
       "08                               3            1          0           0   \n",
       "09                               0            0          0           0   \n",
       "10                               0            0          0           0   \n",
       "11                               0            0          0           0   \n",
       "12                               0            0          2           0   \n",
       "\n",
       "Cluster              tranquil_fury  trickster  valley_girl  warrior_poet  \\\n",
       "Movie release Month                                                        \n",
       "01                               0          0            0             0   \n",
       "02                               0          0            0             0   \n",
       "03                               0          0            0             1   \n",
       "04                               0          0            2             0   \n",
       "05                               3          3            0             2   \n",
       "06                               0          1            2             1   \n",
       "07                               0          0            2             0   \n",
       "08                               0          0            0             1   \n",
       "09                               1          1            0             0   \n",
       "10                               0          0            0             1   \n",
       "11                               2          0            0             1   \n",
       "12                               1          0            0             1   \n",
       "\n",
       "Cluster              young_gun  \n",
       "Movie release Month             \n",
       "01                           0  \n",
       "02                           0  \n",
       "03                           1  \n",
       "04                           0  \n",
       "05                           0  \n",
       "06                           0  \n",
       "07                           2  \n",
       "08                           1  \n",
       "09                           0  \n",
       "10                           1  \n",
       "11                           0  \n",
       "12                           1  \n",
       "\n",
       "[12 rows x 72 columns]"
      ]
     },
     "metadata": {},
     "output_type": "display_data"
    },
    {
     "name": "stdout",
     "output_type": "stream",
     "text": [
      "Test du Chi-carré : Chi2 = 877.7622173594712, p-value = 0.008878992487940456\n",
      "Il y a une dépendance significative entre le mois et le cluster.\n"
     ]
    }
   ],
   "source": [
    "from scipy.stats import chi2_contingency\n",
    "contingency_table = pd.crosstab(df_final['Movie release Month'], df_final['Cluster'])\n",
    "display(contingency_table)\n",
    "# Effectuez le test du Chi-carré\n",
    "chi2, p, _, _ = chi2_contingency(contingency_table)\n",
    "\n",
    "# Affichez les résultats du test\n",
    "print(f\"Test du Chi-carré : Chi2 = {chi2}, p-value = {p}\")\n",
    "\n",
    "# Interprétation du résultat\n",
    "alpha = 0.05  # Niveau de signification\n",
    "if p < alpha:\n",
    "    print(\"Il y a une dépendance significative entre le mois et le cluster.\")\n",
    "else:\n",
    "    print(\"Il n'y a pas de dépendance significative entre le mois et le cluster.\")"
   ]
  },
  {
   "cell_type": "code",
   "execution_count": 8,
   "metadata": {},
   "outputs": [
    {
     "name": "stderr",
     "output_type": "stream",
     "text": [
      "C:\\Users\\jujud\\AppData\\Local\\Temp\\ipykernel_36424\\2074513245.py:1: SettingWithCopyWarning: \n",
      "A value is trying to be set on a copy of a slice from a DataFrame.\n",
      "Try using .loc[row_indexer,col_indexer] = value instead\n",
      "\n",
      "See the caveats in the documentation: https://pandas.pydata.org/pandas-docs/stable/user_guide/indexing.html#returning-a-view-versus-a-copy\n",
      "  df_final['Saison'] = df_final['Movie release Month'].apply(lambda x: ('Hiver' if x in [12, 1, 2] else\n"
     ]
    },
    {
     "data": {
      "image/png": "[encoded data removed]",
      "text/plain": [
       "<Figure size 1200x600 with 1 Axes>"
      ]
     },
     "metadata": {},
     "output_type": "display_data"
    }
   ],
   "source": [
    "df_final['Saison'] = df_final['Movie release Month'].apply(lambda x: ('Hiver' if x in [12, 1, 2] else\n",
    "                                                                         'Printemps' if x in [3, 4, 5] else\n",
    "                                                                         'Été' if x in [6, 7, 8] else\n",
    "                                                                         'Automne'))\n",
    "\n",
    "# Groupby par saison et Cluster, puis comptez les occurrences\n",
    "top_5_per_season = df_final.groupby(['Saison', 'Cluster']).size().groupby('Saison').nlargest(5).reset_index(level=0, drop=True).reset_index(name='Count')\n",
    "\n",
    "# Créer un diagramme à barres\n",
    "plt.figure(figsize=(12, 6))\n",
    "sns.barplot(x='Saison', y='Count', hue='Cluster', data=top_5_per_season, palette='viridis')\n",
    "\n",
    "# Réglez les étiquettes et le titre\n",
    "plt.xlabel('Saison')\n",
    "plt.ylabel('Nombre de personnages')\n",
    "plt.title('Les 5 types de personnages les plus présents par saison')\n",
    "\n",
    "# Affichez la légende\n",
    "plt.legend(title='Personnage Type', bbox_to_anchor=(1.05, 1), loc='upper left')\n",
    "\n",
    "# Affichez le diagramme\n",
    "plt.show()"
   ]
  },
  {
   "cell_type": "code",
   "execution_count": 10,
   "metadata": {},
   "outputs": [
    {
     "name": "stderr",
     "output_type": "stream",
     "text": [
      "C:\\Users\\jujud\\AppData\\Local\\Temp\\ipykernel_36424\\2827426911.py:4: SettingWithCopyWarning: \n",
      "A value is trying to be set on a copy of a slice from a DataFrame.\n",
      "Try using .loc[row_indexer,col_indexer] = value instead\n",
      "\n",
      "See the caveats in the documentation: https://pandas.pydata.org/pandas-docs/stable/user_guide/indexing.html#returning-a-view-versus-a-copy\n",
      "  df_final['Movie release Month'] = pd.to_numeric(df_final['Movie release Month'], errors='coerce')\n",
      "C:\\Users\\jujud\\AppData\\Local\\Temp\\ipykernel_36424\\2827426911.py:11: SettingWithCopyWarning: \n",
      "A value is trying to be set on a copy of a slice from a DataFrame.\n",
      "Try using .loc[row_indexer,col_indexer] = value instead\n",
      "\n",
      "See the caveats in the documentation: https://pandas.pydata.org/pandas-docs/stable/user_guide/indexing.html#returning-a-view-versus-a-copy\n",
      "  df_final['Saison'] = pd.cut(df_final['Movie release Month'], bins=bins, labels=labels, include_lowest=True, right=False)\n"
     ]
    },
    {
     "data": {
      "image/png": "[encoded data removed]",
      "text/plain": [
       "<Figure size 1200x600 with 1 Axes>"
      ]
     },
     "metadata": {},
     "output_type": "display_data"
    }
   ],
   "source": [
    "\n",
    "# Supposons que df_final soit votre DataFrame\n",
    "\n",
    "# Convertissez la colonne 'Movie release Month' en type numérique\n",
    "df_final['Movie release Month'] = pd.to_numeric(df_final['Movie release Month'], errors='coerce')\n",
    "\n",
    "# Définissez les limites des catégories pour chaque saison\n",
    "bins = [0, 2, 5, 8, 11]\n",
    "labels = ['Hiver', 'Printemps', 'Été', 'Automne']\n",
    "\n",
    "# Ajoutez une colonne 'Saison' basée sur les mois\n",
    "df_final['Saison'] = pd.cut(df_final['Movie release Month'], bins=bins, labels=labels, include_lowest=True, right=False)\n",
    "\n",
    "# Groupby par saison et Cluster, puis comptez les occurrences\n",
    "top_5_per_season = df_final.groupby(['Saison', 'Cluster']).size().groupby('Saison').nlargest(5).reset_index(level=0, drop=True).reset_index(name='Count')\n",
    "\n",
    "# Créer un diagramme à barres\n",
    "plt.figure(figsize=(12, 6))\n",
    "sns.barplot(x='Saison', y='Count', hue='Cluster', data=top_5_per_season, palette='viridis', order=labels)\n",
    "\n",
    "# Réglez les étiquettes et le titre\n",
    "plt.xlabel('Saison')\n",
    "plt.ylabel('Nombre de personnages')\n",
    "plt.title('Les 5 types de personnages les plus présents par saison')\n",
    "\n",
    "# Affichez la légende\n",
    "plt.legend(title='Personnage Type', bbox_to_anchor=(1.05, 1), loc='upper left')\n",
    "\n",
    "# Affichez le diagramme\n",
    "plt.show()\n"
   ]
  },
  {
   "cell_type": "code",
   "execution_count": 11,
   "metadata": {},
   "outputs": [
    {
     "name": "stderr",
     "output_type": "stream",
     "text": [
      "C:\\Users\\jujud\\AppData\\Local\\Temp\\ipykernel_36424\\612341736.py:4: SettingWithCopyWarning: \n",
      "A value is trying to be set on a copy of a slice from a DataFrame.\n",
      "Try using .loc[row_indexer,col_indexer] = value instead\n",
      "\n",
      "See the caveats in the documentation: https://pandas.pydata.org/pandas-docs/stable/user_guide/indexing.html#returning-a-view-versus-a-copy\n",
      "  df_final['Movie release Month'] = pd.to_numeric(df_final['Movie release Month'], errors='coerce')\n"
     ]
    },
    {
     "data": {
      "image/png": "[encoded data removed]",
      "text/plain": [
       "<Figure size 1200x600 with 1 Axes>"
      ]
     },
     "metadata": {},
     "output_type": "display_data"
    }
   ],
   "source": [
    "\n",
    "\n",
    "# Supposons que df_final soit votre DataFrame\n",
    "\n",
    "# Convertissez la colonne 'Movie release Month' en type numérique\n",
    "df_final['Movie release Month'] = pd.to_numeric(df_final['Movie release Month'], errors='coerce')\n",
    "\n",
    "# Définissez les limites des catégories pour chaque saison\n",
    "bins = [0, 2, 5, 8, 11]\n",
    "labels = ['Hiver', 'Printemps', 'Été', 'Automne']\n",
    "\n",
    "# Ajoutez une colonne 'Saison' basée sur les mois\n",
    "df_final.loc[:, 'Saison'] = pd.cut(df_final['Movie release Month'], bins=bins, labels=labels, include_lowest=True, right=False)\n",
    "\n",
    "# Groupby par saison et Cluster, puis comptez les occurrences\n",
    "top_5_per_season = df_final.groupby(['Saison', 'Cluster']).size().groupby('Saison').nlargest(5).reset_index(level=0, drop=True).reset_index(name='Count')\n",
    "\n",
    "# Créer un diagramme à barres\n",
    "plt.figure(figsize=(12, 6))\n",
    "sns.barplot(x='Saison', y='Count', hue='Cluster', data=top_5_per_season, palette='viridis', order=labels)\n",
    "\n",
    "# Réglez les étiquettes et le titre\n",
    "plt.xlabel('Saison')\n",
    "plt.ylabel('Nombre de personnages')\n",
    "plt.title('Les 5 types de personnages les plus présents par saison')\n",
    "\n",
    "# Affichez la légende\n",
    "plt.legend(title='Personnage Type', bbox_to_anchor=(1.05, 1), loc='upper left')\n",
    "\n",
    "# Affichez le diagramme\n",
    "plt.show()\n"
   ]
  },
  {
   "cell_type": "code",
   "execution_count": 15,
   "metadata": {},
   "outputs": [
    {
     "data": {
      "application/vnd.plotly.v1+json": {
       "config": {
        "plotlyServerURL": "https://plot.ly"
       },
       "data": [
        {
         "alignmentgroup": "True",
         "hovertemplate": "Cluster=absent_minded_professor<br>Movie release Month=%{x}<br>index=%{y}<extra></extra>",
         "legendgroup": "absent_minded_professor",
         "marker": {
          "color": "#636efa",
          "pattern": {
           "shape": ""
          }
         },
         "name": "absent_minded_professor",
         "offsetgroup": "absent_minded_professor",
         "orientation": "h",
         "showlegend": true,
         "textposition": "auto",
         "type": "bar",
         "x": [
          11,
          12,
          7,
          6,
          10
         ],
         "xaxis": "x",
         "y": [
          0,
          1,
          2,
          3,
          4
         ],
         "yaxis": "y"
        },
        {
         "alignmentgroup": "True",
         "hovertemplate": "Cluster=adventurer_archaeologist<br>Movie release Month=%{x}<br>index=%{y}<extra></extra>",
         "legendgroup": "adventurer_archaeologist",
         "marker": {
          "color": "#EF553B",
          "pattern": {
           "shape": ""
          }
         },
         "name": "adventurer_archaeologist",
         "offsetgroup": "adventurer_archaeologist",
         "orientation": "h",
         "showlegend": true,
         "textposition": "auto",
         "type": "bar",
         "x": [
          5,
          6,
          5,
          4
         ],
         "xaxis": "x",
         "y": [
          5,
          6,
          7,
          8
         ],
         "yaxis": "y"
        },
        {
         "alignmentgroup": "True",
         "hovertemplate": "Cluster=arrogant_kungfu_guy<br>Movie release Month=%{x}<br>index=%{y}<extra></extra>",
         "legendgroup": "arrogant_kungfu_guy",
         "marker": {
          "color": "#00cc96",
          "pattern": {
           "shape": ""
          }
         },
         "name": "arrogant_kungfu_guy",
         "offsetgroup": "arrogant_kungfu_guy",
         "orientation": "h",
         "showlegend": true,
         "textposition": "auto",
         "type": "bar",
         "x": [
          7,
          6,
          5,
          4,
          11,
          5,
          8,
          1,
          5
         ],
         "xaxis": "x",
         "y": [
          9,
          10,
          12,
          13,
          14,
          15,
          16,
          17,
          18
         ],
         "yaxis": "y"
        },
        {
         "alignmentgroup": "True",
         "hovertemplate": "Cluster=jerk_jock<br>Movie release Month=%{x}<br>index=%{y}<extra></extra>",
         "legendgroup": "jerk_jock",
         "marker": {
          "color": "#ab63fa",
          "pattern": {
           "shape": ""
          }
         },
         "name": "jerk_jock",
         "offsetgroup": "jerk_jock",
         "orientation": "h",
         "showlegend": true,
         "textposition": "auto",
         "type": "bar",
         "x": [
          6,
          6,
          7,
          11,
          12,
          12,
          10,
          11,
          9
         ],
         "xaxis": "x",
         "y": [
          11,
          28,
          70,
          238,
          327,
          328,
          329,
          330,
          331
         ],
         "yaxis": "y"
        },
        {
         "alignmentgroup": "True",
         "hovertemplate": "Cluster=byronic_hero<br>Movie release Month=%{x}<br>index=%{y}<extra></extra>",
         "legendgroup": "byronic_hero",
         "marker": {
          "color": "#FFA15A",
          "pattern": {
           "shape": ""
          }
         },
         "name": "byronic_hero",
         "offsetgroup": "byronic_hero",
         "orientation": "h",
         "showlegend": true,
         "textposition": "auto",
         "type": "bar",
         "x": [
          5,
          11,
          11,
          2,
          4,
          4,
          7,
          5,
          1,
          1,
          6,
          9,
          10,
          4,
          5,
          10,
          12
         ],
         "xaxis": "x",
         "y": [
          19,
          66,
          73,
          75,
          76,
          77,
          78,
          80,
          81,
          82,
          83,
          88,
          90,
          91,
          94,
          96,
          97
         ],
         "yaxis": "y"
        },
        {
         "alignmentgroup": "True",
         "hovertemplate": "Cluster=big_man_on_campus<br>Movie release Month=%{x}<br>index=%{y}<extra></extra>",
         "legendgroup": "big_man_on_campus",
         "marker": {
          "color": "#19d3f3",
          "pattern": {
           "shape": ""
          }
         },
         "name": "big_man_on_campus",
         "offsetgroup": "big_man_on_campus",
         "orientation": "h",
         "showlegend": true,
         "textposition": "auto",
         "type": "bar",
         "x": [
          4,
          7,
          12,
          4,
          4,
          1,
          6
         ],
         "xaxis": "x",
         "y": [
          20,
          21,
          22,
          23,
          24,
          26,
          27
         ],
         "yaxis": "y"
        },
        {
         "alignmentgroup": "True",
         "hovertemplate": "Cluster=brainless_beauty<br>Movie release Month=%{x}<br>index=%{y}<extra></extra>",
         "legendgroup": "brainless_beauty",
         "marker": {
          "color": "#FF6692",
          "pattern": {
           "shape": ""
          }
         },
         "name": "brainless_beauty",
         "offsetgroup": "brainless_beauty",
         "orientation": "h",
         "showlegend": true,
         "textposition": "auto",
         "type": "bar",
         "x": [
          4,
          2,
          5,
          8,
          2,
          10,
          2,
          6,
          7,
          9,
          1,
          9
         ],
         "xaxis": "x",
         "y": [
          25,
          39,
          40,
          41,
          42,
          43,
          45,
          46,
          47,
          49,
          50,
          51
         ],
         "yaxis": "y"
        },
        {
         "alignmentgroup": "True",
         "hovertemplate": "Cluster=bounty_hunter<br>Movie release Month=%{x}<br>index=%{y}<extra></extra>",
         "legendgroup": "bounty_hunter",
         "marker": {
          "color": "#B6E880",
          "pattern": {
           "shape": ""
          }
         },
         "name": "bounty_hunter",
         "offsetgroup": "bounty_hunter",
         "orientation": "h",
         "showlegend": true,
         "textposition": "auto",
         "type": "bar",
         "x": [
          12,
          6,
          9,
          6,
          3,
          7,
          3,
          6
         ],
         "xaxis": "x",
         "y": [
          29,
          30,
          32,
          33,
          35,
          36,
          37,
          38
         ],
         "yaxis": "y"
        },
        {
         "alignmentgroup": "True",
         "hovertemplate": "Cluster=heartbroken_badass<br>Movie release Month=%{x}<br>index=%{y}<extra></extra>",
         "legendgroup": "heartbroken_badass",
         "marker": {
          "color": "#FF97FF",
          "pattern": {
           "shape": ""
          }
         },
         "name": "heartbroken_badass",
         "offsetgroup": "heartbroken_badass",
         "orientation": "h",
         "showlegend": true,
         "textposition": "auto",
         "type": "bar",
         "x": [
          6,
          10,
          7,
          10,
          4,
          9,
          7
         ],
         "xaxis": "x",
         "y": [
          31,
          167,
          309,
          310,
          311,
          312,
          313
         ],
         "yaxis": "y"
        },
        {
         "alignmentgroup": "True",
         "hovertemplate": "Cluster=hardboiled_detective<br>Movie release Month=%{x}<br>index=%{y}<extra></extra>",
         "legendgroup": "hardboiled_detective",
         "marker": {
          "color": "#FECB52",
          "pattern": {
           "shape": ""
          }
         },
         "name": "hardboiled_detective",
         "offsetgroup": "hardboiled_detective",
         "orientation": "h",
         "showlegend": true,
         "textposition": "auto",
         "type": "bar",
         "x": [
          6,
          10,
          8,
          1,
          1,
          6,
          6
         ],
         "xaxis": "x",
         "y": [
          34,
          303,
          304,
          305,
          306,
          307,
          308
         ],
         "yaxis": "y"
        },
        {
         "alignmentgroup": "True",
         "hovertemplate": "Cluster=dumb_blonde<br>Movie release Month=%{x}<br>index=%{y}<extra></extra>",
         "legendgroup": "dumb_blonde",
         "marker": {
          "color": "#636efa",
          "pattern": {
           "shape": ""
          }
         },
         "name": "dumb_blonde",
         "offsetgroup": "dumb_blonde",
         "orientation": "h",
         "showlegend": true,
         "textposition": "auto",
         "type": "bar",
         "x": [
          10,
          8,
          4,
          10,
          3,
          11,
          4,
          4,
          5,
          8
         ],
         "xaxis": "x",
         "y": [
          44,
          215,
          216,
          217,
          218,
          219,
          220,
          223,
          225,
          226
         ],
         "yaxis": "y"
        },
        {
         "alignmentgroup": "True",
         "hovertemplate": "Cluster=valley_girl<br>Movie release Month=%{x}<br>index=%{y}<extra></extra>",
         "legendgroup": "valley_girl",
         "marker": {
          "color": "#EF553B",
          "pattern": {
           "shape": ""
          }
         },
         "name": "valley_girl",
         "offsetgroup": "valley_girl",
         "orientation": "h",
         "showlegend": true,
         "textposition": "auto",
         "type": "bar",
         "x": [
          7,
          7,
          4,
          4,
          6,
          6
         ],
         "xaxis": "x",
         "y": [
          48,
          197,
          222,
          466,
          467,
          468
         ],
         "yaxis": "y"
        },
        {
         "alignmentgroup": "True",
         "hovertemplate": "Cluster=broken_bird<br>Movie release Month=%{x}<br>index=%{y}<extra></extra>",
         "legendgroup": "broken_bird",
         "marker": {
          "color": "#00cc96",
          "pattern": {
           "shape": ""
          }
         },
         "name": "broken_bird",
         "offsetgroup": "broken_bird",
         "orientation": "h",
         "showlegend": true,
         "textposition": "auto",
         "type": "bar",
         "x": [
          6,
          3,
          6,
          4,
          9
         ],
         "xaxis": "x",
         "y": [
          52,
          53,
          54,
          55,
          56
         ],
         "yaxis": "y"
        },
        {
         "alignmentgroup": "True",
         "hovertemplate": "Cluster=bromantic_foil<br>Movie release Month=%{x}<br>index=%{y}<extra></extra>",
         "legendgroup": "bromantic_foil",
         "marker": {
          "color": "#ab63fa",
          "pattern": {
           "shape": ""
          }
         },
         "name": "bromantic_foil",
         "offsetgroup": "bromantic_foil",
         "orientation": "h",
         "showlegend": true,
         "textposition": "auto",
         "type": "bar",
         "x": [
          1,
          5,
          10,
          1,
          3
         ],
         "xaxis": "x",
         "y": [
          57,
          58,
          59,
          61,
          62
         ],
         "yaxis": "y"
        },
        {
         "alignmentgroup": "True",
         "hovertemplate": "Cluster=slacker<br>Movie release Month=%{x}<br>index=%{y}<extra></extra>",
         "legendgroup": "slacker",
         "marker": {
          "color": "#FFA15A",
          "pattern": {
           "shape": ""
          }
         },
         "name": "slacker",
         "offsetgroup": "slacker",
         "orientation": "h",
         "showlegend": true,
         "textposition": "auto",
         "type": "bar",
         "x": [
          10,
          4,
          4,
          9,
          8,
          5,
          3,
          5,
          4,
          6,
          2
         ],
         "xaxis": "x",
         "y": [
          60,
          221,
          224,
          341,
          415,
          417,
          418,
          419,
          421,
          422,
          423
         ],
         "yaxis": "y"
        },
        {
         "alignmentgroup": "True",
         "hovertemplate": "Cluster=bruiser_with_a_soft_center<br>Movie release Month=%{x}<br>index=%{y}<extra></extra>",
         "legendgroup": "bruiser_with_a_soft_center",
         "marker": {
          "color": "#19d3f3",
          "pattern": {
           "shape": ""
          }
         },
         "name": "bruiser_with_a_soft_center",
         "offsetgroup": "bruiser_with_a_soft_center",
         "orientation": "h",
         "showlegend": true,
         "textposition": "auto",
         "type": "bar",
         "x": [
          3,
          7,
          11
         ],
         "xaxis": "x",
         "y": [
          63,
          64,
          65
         ],
         "yaxis": "y"
        },
        {
         "alignmentgroup": "True",
         "hovertemplate": "Cluster=charmer<br>Movie release Month=%{x}<br>index=%{y}<extra></extra>",
         "legendgroup": "charmer",
         "marker": {
          "color": "#FF6692",
          "pattern": {
           "shape": ""
          }
         },
         "name": "charmer",
         "offsetgroup": "charmer",
         "orientation": "h",
         "showlegend": true,
         "textposition": "auto",
         "type": "bar",
         "x": [
          11,
          6,
          5,
          12,
          2,
          11,
          2
         ],
         "xaxis": "x",
         "y": [
          67,
          84,
          110,
          112,
          113,
          115,
          116
         ],
         "yaxis": "y"
        },
        {
         "alignmentgroup": "True",
         "hovertemplate": "Cluster=cultured_badass<br>Movie release Month=%{x}<br>index=%{y}<extra></extra>",
         "legendgroup": "cultured_badass",
         "marker": {
          "color": "#B6E880",
          "pattern": {
           "shape": ""
          }
         },
         "name": "cultured_badass",
         "offsetgroup": "cultured_badass",
         "orientation": "h",
         "showlegend": true,
         "textposition": "auto",
         "type": "bar",
         "x": [
          11,
          7,
          2,
          9,
          12,
          5,
          12
         ],
         "xaxis": "x",
         "y": [
          68,
          101,
          117,
          180,
          181,
          182,
          184
         ],
         "yaxis": "y"
        },
        {
         "alignmentgroup": "True",
         "hovertemplate": "Cluster=bully<br>Movie release Month=%{x}<br>index=%{y}<extra></extra>",
         "legendgroup": "bully",
         "marker": {
          "color": "#FF97FF",
          "pattern": {
           "shape": ""
          }
         },
         "name": "bully",
         "offsetgroup": "bully",
         "orientation": "h",
         "showlegend": true,
         "textposition": "auto",
         "type": "bar",
         "x": [
          7,
          11,
          10
         ],
         "xaxis": "x",
         "y": [
          69,
          71,
          72
         ],
         "yaxis": "y"
        },
        {
         "alignmentgroup": "True",
         "hovertemplate": "Cluster=crazy_jealous_guy<br>Movie release Month=%{x}<br>index=%{y}<extra></extra>",
         "legendgroup": "crazy_jealous_guy",
         "marker": {
          "color": "#FECB52",
          "pattern": {
           "shape": ""
          }
         },
         "name": "crazy_jealous_guy",
         "offsetgroup": "crazy_jealous_guy",
         "orientation": "h",
         "showlegend": true,
         "textposition": "auto",
         "type": "bar",
         "x": [
          11,
          11,
          11,
          5,
          12,
          7,
          8,
          4,
          5,
          12,
          2,
          9,
          9,
          10,
          10,
          5,
          2,
          10,
          9,
          3,
          5,
          6,
          11
         ],
         "xaxis": "x",
         "y": [
          74,
          126,
          154,
          155,
          156,
          157,
          158,
          159,
          160,
          161,
          162,
          163,
          164,
          165,
          166,
          169,
          170,
          171,
          172,
          173,
          174,
          175,
          176
         ],
         "yaxis": "y"
        },
        {
         "alignmentgroup": "True",
         "hovertemplate": "Cluster=gentleman_thief<br>Movie release Month=%{x}<br>index=%{y}<extra></extra>",
         "legendgroup": "gentleman_thief",
         "marker": {
          "color": "#636efa",
          "pattern": {
           "shape": ""
          }
         },
         "name": "gentleman_thief",
         "offsetgroup": "gentleman_thief",
         "orientation": "h",
         "showlegend": true,
         "textposition": "auto",
         "type": "bar",
         "x": [
          7,
          8,
          12,
          12,
          7,
          7
         ],
         "xaxis": "x",
         "y": [
          79,
          284,
          285,
          286,
          287,
          289
         ],
         "yaxis": "y"
        },
        {
         "alignmentgroup": "True",
         "hovertemplate": "Cluster=coward<br>Movie release Month=%{x}<br>index=%{y}<extra></extra>",
         "legendgroup": "coward",
         "marker": {
          "color": "#EF553B",
          "pattern": {
           "shape": ""
          }
         },
         "name": "coward",
         "offsetgroup": "coward",
         "orientation": "h",
         "showlegend": true,
         "textposition": "auto",
         "type": "bar",
         "x": [
          6,
          7,
          4,
          12,
          7
         ],
         "xaxis": "x",
         "y": [
          85,
          132,
          151,
          152,
          153
         ],
         "yaxis": "y"
        },
        {
         "alignmentgroup": "True",
         "hovertemplate": "Cluster=loveable_rogue<br>Movie release Month=%{x}<br>index=%{y}<extra></extra>",
         "legendgroup": "loveable_rogue",
         "marker": {
          "color": "#00cc96",
          "pattern": {
           "shape": ""
          }
         },
         "name": "loveable_rogue",
         "offsetgroup": "loveable_rogue",
         "orientation": "h",
         "showlegend": true,
         "textposition": "auto",
         "type": "bar",
         "x": [
          6,
          5,
          2,
          7,
          11,
          12,
          7,
          7
         ],
         "xaxis": "x",
         "y": [
          86,
          111,
          114,
          288,
          343,
          344,
          345,
          346
         ],
         "yaxis": "y"
        },
        {
         "alignmentgroup": "True",
         "hovertemplate": "Cluster=trickster<br>Movie release Month=%{x}<br>index=%{y}<extra></extra>",
         "legendgroup": "trickster",
         "marker": {
          "color": "#ab63fa",
          "pattern": {
           "shape": ""
          }
         },
         "name": "trickster",
         "offsetgroup": "trickster",
         "orientation": "h",
         "showlegend": true,
         "textposition": "auto",
         "type": "bar",
         "x": [
          6,
          5,
          5,
          9,
          5
         ],
         "xaxis": "x",
         "y": [
          87,
          95,
          463,
          464,
          465
         ],
         "yaxis": "y"
        },
        {
         "alignmentgroup": "True",
         "hovertemplate": "Cluster=casanova<br>Movie release Month=%{x}<br>index=%{y}<extra></extra>",
         "legendgroup": "casanova",
         "marker": {
          "color": "#FFA15A",
          "pattern": {
           "shape": ""
          }
         },
         "name": "casanova",
         "offsetgroup": "casanova",
         "orientation": "h",
         "showlegend": true,
         "textposition": "auto",
         "type": "bar",
         "x": [
          9,
          4,
          9,
          5,
          7,
          10,
          10
         ],
         "xaxis": "x",
         "y": [
          89,
          92,
          98,
          99,
          100,
          102,
          103
         ],
         "yaxis": "y"
        },
        {
         "alignmentgroup": "True",
         "hovertemplate": "Cluster=gadgeteer_genius<br>Movie release Month=%{x}<br>index=%{y}<extra></extra>",
         "legendgroup": "gadgeteer_genius",
         "marker": {
          "color": "#19d3f3",
          "pattern": {
           "shape": ""
          }
         },
         "name": "gadgeteer_genius",
         "offsetgroup": "gadgeteer_genius",
         "orientation": "h",
         "showlegend": true,
         "textposition": "auto",
         "type": "bar",
         "x": [
          4,
          5,
          6,
          6,
          3,
          7
         ],
         "xaxis": "x",
         "y": [
          93,
          119,
          280,
          281,
          282,
          283
         ],
         "yaxis": "y"
        },
        {
         "alignmentgroup": "True",
         "hovertemplate": "Cluster=chanteuse<br>Movie release Month=%{x}<br>index=%{y}<extra></extra>",
         "legendgroup": "chanteuse",
         "marker": {
          "color": "#FF6692",
          "pattern": {
           "shape": ""
          }
         },
         "name": "chanteuse",
         "offsetgroup": "chanteuse",
         "orientation": "h",
         "showlegend": true,
         "textposition": "auto",
         "type": "bar",
         "x": [
          6,
          7,
          10,
          3,
          8,
          6
         ],
         "xaxis": "x",
         "y": [
          104,
          105,
          106,
          107,
          108,
          109
         ],
         "yaxis": "y"
        },
        {
         "alignmentgroup": "True",
         "hovertemplate": "Cluster=child_prodigy<br>Movie release Month=%{x}<br>index=%{y}<extra></extra>",
         "legendgroup": "child_prodigy",
         "marker": {
          "color": "#B6E880",
          "pattern": {
           "shape": ""
          }
         },
         "name": "child_prodigy",
         "offsetgroup": "child_prodigy",
         "orientation": "h",
         "showlegend": true,
         "textposition": "auto",
         "type": "bar",
         "x": [
          5,
          8
         ],
         "xaxis": "x",
         "y": [
          118,
          120
         ],
         "yaxis": "y"
        },
        {
         "alignmentgroup": "True",
         "hovertemplate": "Cluster=classy_cat_burglar<br>Movie release Month=%{x}<br>index=%{y}<extra></extra>",
         "legendgroup": "classy_cat_burglar",
         "marker": {
          "color": "#FF97FF",
          "pattern": {
           "shape": ""
          }
         },
         "name": "classy_cat_burglar",
         "offsetgroup": "classy_cat_burglar",
         "orientation": "h",
         "showlegend": true,
         "textposition": "auto",
         "type": "bar",
         "x": [
          8
         ],
         "xaxis": "x",
         "y": [
          121
         ],
         "yaxis": "y"
        },
        {
         "alignmentgroup": "True",
         "hovertemplate": "Cluster=consummate_professional<br>Movie release Month=%{x}<br>index=%{y}<extra></extra>",
         "legendgroup": "consummate_professional",
         "marker": {
          "color": "#FECB52",
          "pattern": {
           "shape": ""
          }
         },
         "name": "consummate_professional",
         "offsetgroup": "consummate_professional",
         "orientation": "h",
         "showlegend": true,
         "textposition": "auto",
         "type": "bar",
         "x": [
          10,
          3,
          6,
          11
         ],
         "xaxis": "x",
         "y": [
          122,
          123,
          124,
          125
         ],
         "yaxis": "y"
        },
        {
         "alignmentgroup": "True",
         "hovertemplate": "Cluster=corrupt_corporate_executive<br>Movie release Month=%{x}<br>index=%{y}<extra></extra>",
         "legendgroup": "corrupt_corporate_executive",
         "marker": {
          "color": "#636efa",
          "pattern": {
           "shape": ""
          }
         },
         "name": "corrupt_corporate_executive",
         "offsetgroup": "corrupt_corporate_executive",
         "orientation": "h",
         "showlegend": true,
         "textposition": "auto",
         "type": "bar",
         "x": [
          7,
          6,
          5,
          5,
          7,
          6,
          6,
          2,
          6,
          10,
          11,
          12,
          4,
          11,
          8,
          8,
          7,
          12,
          1,
          6,
          1,
          9
         ],
         "xaxis": "x",
         "y": [
          127,
          128,
          129,
          130,
          131,
          133,
          134,
          135,
          136,
          137,
          138,
          139,
          141,
          142,
          143,
          144,
          145,
          146,
          147,
          148,
          149,
          150
         ],
         "yaxis": "y"
        },
        {
         "alignmentgroup": "True",
         "hovertemplate": "Cluster=morally_bankrupt_banker<br>Movie release Month=%{x}<br>index=%{y}<extra></extra>",
         "legendgroup": "morally_bankrupt_banker",
         "marker": {
          "color": "#EF553B",
          "pattern": {
           "shape": ""
          }
         },
         "name": "morally_bankrupt_banker",
         "offsetgroup": "morally_bankrupt_banker",
         "orientation": "h",
         "showlegend": true,
         "textposition": "auto",
         "type": "bar",
         "x": [
          12,
          6,
          1
         ],
         "xaxis": "x",
         "y": [
          140,
          361,
          362
         ],
         "yaxis": "y"
        },
        {
         "alignmentgroup": "True",
         "hovertemplate": "Cluster=master_swordsman<br>Movie release Month=%{x}<br>index=%{y}<extra></extra>",
         "legendgroup": "master_swordsman",
         "marker": {
          "color": "#00cc96",
          "pattern": {
           "shape": ""
          }
         },
         "name": "master_swordsman",
         "offsetgroup": "master_swordsman",
         "orientation": "h",
         "showlegend": true,
         "textposition": "auto",
         "type": "bar",
         "x": [
          10,
          5,
          5,
          5,
          9,
          4,
          5,
          10,
          10,
          12,
          8,
          8
         ],
         "xaxis": "x",
         "y": [
          168,
          347,
          348,
          349,
          350,
          353,
          354,
          355,
          356,
          358,
          359,
          360
         ],
         "yaxis": "y"
        },
        {
         "alignmentgroup": "True",
         "hovertemplate": "Cluster=crazy_survivalist<br>Movie release Month=%{x}<br>index=%{y}<extra></extra>",
         "legendgroup": "crazy_survivalist",
         "marker": {
          "color": "#ab63fa",
          "pattern": {
           "shape": ""
          }
         },
         "name": "crazy_survivalist",
         "offsetgroup": "crazy_survivalist",
         "orientation": "h",
         "showlegend": true,
         "textposition": "auto",
         "type": "bar",
         "x": [
          6,
          1,
          10
         ],
         "xaxis": "x",
         "y": [
          177,
          178,
          179
         ],
         "yaxis": "y"
        },
        {
         "alignmentgroup": "True",
         "hovertemplate": "Cluster=hitman_with_a_heart<br>Movie release Month=%{x}<br>index=%{y}<extra></extra>",
         "legendgroup": "hitman_with_a_heart",
         "marker": {
          "color": "#FFA15A",
          "pattern": {
           "shape": ""
          }
         },
         "name": "hitman_with_a_heart",
         "offsetgroup": "hitman_with_a_heart",
         "orientation": "h",
         "showlegend": true,
         "textposition": "auto",
         "type": "bar",
         "x": [
          5,
          12,
          2,
          2,
          8,
          6,
          6,
          6,
          8
         ],
         "xaxis": "x",
         "y": [
          183,
          319,
          320,
          321,
          322,
          323,
          324,
          325,
          326
         ],
         "yaxis": "y"
        },
        {
         "alignmentgroup": "True",
         "hovertemplate": "Cluster=dean_bitterman<br>Movie release Month=%{x}<br>index=%{y}<extra></extra>",
         "legendgroup": "dean_bitterman",
         "marker": {
          "color": "#19d3f3",
          "pattern": {
           "shape": ""
          }
         },
         "name": "dean_bitterman",
         "offsetgroup": "dean_bitterman",
         "orientation": "h",
         "showlegend": true,
         "textposition": "auto",
         "type": "bar",
         "x": [
          2,
          6,
          6,
          6
         ],
         "xaxis": "x",
         "y": [
          185,
          186,
          187,
          188
         ],
         "yaxis": "y"
        },
        {
         "alignmentgroup": "True",
         "hovertemplate": "Cluster=dirty_cop<br>Movie release Month=%{x}<br>index=%{y}<extra></extra>",
         "legendgroup": "dirty_cop",
         "marker": {
          "color": "#FF6692",
          "pattern": {
           "shape": ""
          }
         },
         "name": "dirty_cop",
         "offsetgroup": "dirty_cop",
         "orientation": "h",
         "showlegend": true,
         "textposition": "auto",
         "type": "bar",
         "x": [
          9,
          1,
          9,
          4,
          9,
          9,
          9
         ],
         "xaxis": "x",
         "y": [
          189,
          190,
          191,
          192,
          193,
          194,
          195
         ],
         "yaxis": "y"
        },
        {
         "alignmentgroup": "True",
         "hovertemplate": "Cluster=ditz<br>Movie release Month=%{x}<br>index=%{y}<extra></extra>",
         "legendgroup": "ditz",
         "marker": {
          "color": "#B6E880",
          "pattern": {
           "shape": ""
          }
         },
         "name": "ditz",
         "offsetgroup": "ditz",
         "orientation": "h",
         "showlegend": true,
         "textposition": "auto",
         "type": "bar",
         "x": [
          7,
          3,
          4,
          8,
          2,
          6,
          7
         ],
         "xaxis": "x",
         "y": [
          196,
          198,
          199,
          200,
          201,
          202,
          203
         ],
         "yaxis": "y"
        },
        {
         "alignmentgroup": "True",
         "hovertemplate": "Cluster=doormat<br>Movie release Month=%{x}<br>index=%{y}<extra></extra>",
         "legendgroup": "doormat",
         "marker": {
          "color": "#FF97FF",
          "pattern": {
           "shape": ""
          }
         },
         "name": "doormat",
         "offsetgroup": "doormat",
         "orientation": "h",
         "showlegend": true,
         "textposition": "auto",
         "type": "bar",
         "x": [
          7,
          12,
          11,
          6
         ],
         "xaxis": "x",
         "y": [
          204,
          205,
          206,
          207
         ],
         "yaxis": "y"
        },
        {
         "alignmentgroup": "True",
         "hovertemplate": "Cluster=drill_sargeant_nasty<br>Movie release Month=%{x}<br>index=%{y}<extra></extra>",
         "legendgroup": "drill_sargeant_nasty",
         "marker": {
          "color": "#FECB52",
          "pattern": {
           "shape": ""
          }
         },
         "name": "drill_sargeant_nasty",
         "offsetgroup": "drill_sargeant_nasty",
         "orientation": "h",
         "showlegend": true,
         "textposition": "auto",
         "type": "bar",
         "x": [
          6,
          8,
          6,
          12,
          12,
          2
         ],
         "xaxis": "x",
         "y": [
          208,
          209,
          210,
          211,
          212,
          214
         ],
         "yaxis": "y"
        },
        {
         "alignmentgroup": "True",
         "hovertemplate": "Cluster=psycho_for_hire<br>Movie release Month=%{x}<br>index=%{y}<extra></extra>",
         "legendgroup": "psycho_for_hire",
         "marker": {
          "color": "#636efa",
          "pattern": {
           "shape": ""
          }
         },
         "name": "psycho_for_hire",
         "offsetgroup": "psycho_for_hire",
         "orientation": "h",
         "showlegend": true,
         "textposition": "auto",
         "type": "bar",
         "x": [
          12,
          3,
          7,
          1,
          10,
          11,
          8,
          2,
          6,
          9,
          12,
          8,
          12,
          4,
          4,
          12
         ],
         "xaxis": "x",
         "y": [
          213,
          379,
          380,
          381,
          382,
          383,
          384,
          385,
          386,
          387,
          388,
          389,
          390,
          391,
          392,
          393
         ],
         "yaxis": "y"
        },
        {
         "alignmentgroup": "True",
         "hovertemplate": "Cluster=dumb_muscle<br>Movie release Month=%{x}<br>index=%{y}<extra></extra>",
         "legendgroup": "dumb_muscle",
         "marker": {
          "color": "#EF553B",
          "pattern": {
           "shape": ""
          }
         },
         "name": "dumb_muscle",
         "offsetgroup": "dumb_muscle",
         "orientation": "h",
         "showlegend": true,
         "textposition": "auto",
         "type": "bar",
         "x": [
          11,
          2,
          9,
          8
         ],
         "xaxis": "x",
         "y": [
          227,
          228,
          229,
          230
         ],
         "yaxis": "y"
        },
        {
         "alignmentgroup": "True",
         "hovertemplate": "Cluster=eccentric_mentor<br>Movie release Month=%{x}<br>index=%{y}<extra></extra>",
         "legendgroup": "eccentric_mentor",
         "marker": {
          "color": "#00cc96",
          "pattern": {
           "shape": ""
          }
         },
         "name": "eccentric_mentor",
         "offsetgroup": "eccentric_mentor",
         "orientation": "h",
         "showlegend": true,
         "textposition": "auto",
         "type": "bar",
         "x": [
          12,
          6,
          5,
          12,
          5
         ],
         "xaxis": "x",
         "y": [
          231,
          232,
          233,
          234,
          235
         ],
         "yaxis": "y"
        },
        {
         "alignmentgroup": "True",
         "hovertemplate": "Cluster=egomaniac_hunter<br>Movie release Month=%{x}<br>index=%{y}<extra></extra>",
         "legendgroup": "egomaniac_hunter",
         "marker": {
          "color": "#ab63fa",
          "pattern": {
           "shape": ""
          }
         },
         "name": "egomaniac_hunter",
         "offsetgroup": "egomaniac_hunter",
         "orientation": "h",
         "showlegend": true,
         "textposition": "auto",
         "type": "bar",
         "x": [
          6,
          11,
          5,
          5,
          9,
          11,
          6
         ],
         "xaxis": "x",
         "y": [
          236,
          237,
          239,
          240,
          241,
          242,
          243
         ],
         "yaxis": "y"
        },
        {
         "alignmentgroup": "True",
         "hovertemplate": "Cluster=evil_prince<br>Movie release Month=%{x}<br>index=%{y}<extra></extra>",
         "legendgroup": "evil_prince",
         "marker": {
          "color": "#FFA15A",
          "pattern": {
           "shape": ""
          }
         },
         "name": "evil_prince",
         "offsetgroup": "evil_prince",
         "orientation": "h",
         "showlegend": true,
         "textposition": "auto",
         "type": "bar",
         "x": [
          12,
          4,
          5,
          1,
          7,
          5,
          8,
          9
         ],
         "xaxis": "x",
         "y": [
          244,
          245,
          246,
          247,
          248,
          249,
          250,
          251
         ],
         "yaxis": "y"
        },
        {
         "alignmentgroup": "True",
         "hovertemplate": "Cluster=fastest_gun_in_the_west<br>Movie release Month=%{x}<br>index=%{y}<extra></extra>",
         "legendgroup": "fastest_gun_in_the_west",
         "marker": {
          "color": "#19d3f3",
          "pattern": {
           "shape": ""
          }
         },
         "name": "fastest_gun_in_the_west",
         "offsetgroup": "fastest_gun_in_the_west",
         "orientation": "h",
         "showlegend": true,
         "textposition": "auto",
         "type": "bar",
         "x": [
          2,
          5,
          12,
          12,
          11,
          8,
          7
         ],
         "xaxis": "x",
         "y": [
          252,
          253,
          254,
          255,
          257,
          258,
          259
         ],
         "yaxis": "y"
        },
        {
         "alignmentgroup": "True",
         "hovertemplate": "Cluster=revenge<br>Movie release Month=%{x}<br>index=%{y}<extra></extra>",
         "legendgroup": "revenge",
         "marker": {
          "color": "#FF6692",
          "pattern": {
           "shape": ""
          }
         },
         "name": "revenge",
         "offsetgroup": "revenge",
         "orientation": "h",
         "showlegend": true,
         "textposition": "auto",
         "type": "bar",
         "x": [
          12,
          9,
          6,
          12,
          9,
          6
         ],
         "xaxis": "x",
         "y": [
          256,
          351,
          402,
          403,
          404,
          405
         ],
         "yaxis": "y"
        },
        {
         "alignmentgroup": "True",
         "hovertemplate": "Cluster=father_to_his_men<br>Movie release Month=%{x}<br>index=%{y}<extra></extra>",
         "legendgroup": "father_to_his_men",
         "marker": {
          "color": "#B6E880",
          "pattern": {
           "shape": ""
          }
         },
         "name": "father_to_his_men",
         "offsetgroup": "father_to_his_men",
         "orientation": "h",
         "showlegend": true,
         "textposition": "auto",
         "type": "bar",
         "x": [
          7,
          5,
          11,
          5,
          9,
          7,
          12,
          12,
          5,
          4,
          6,
          5,
          11
         ],
         "xaxis": "x",
         "y": [
          260,
          261,
          262,
          264,
          265,
          266,
          267,
          268,
          269,
          270,
          271,
          272,
          273
         ],
         "yaxis": "y"
        },
        {
         "alignmentgroup": "True",
         "hovertemplate": "Cluster=officer_and_a_gentleman<br>Movie release Month=%{x}<br>index=%{y}<extra></extra>",
         "legendgroup": "officer_and_a_gentleman",
         "marker": {
          "color": "#FF97FF",
          "pattern": {
           "shape": ""
          }
         },
         "name": "officer_and_a_gentleman",
         "offsetgroup": "officer_and_a_gentleman",
         "orientation": "h",
         "showlegend": true,
         "textposition": "auto",
         "type": "bar",
         "x": [
          11,
          6,
          12
         ],
         "xaxis": "x",
         "y": [
          263,
          363,
          364
         ],
         "yaxis": "y"
        },
        {
         "alignmentgroup": "True",
         "hovertemplate": "Cluster=final_girl<br>Movie release Month=%{x}<br>index=%{y}<extra></extra>",
         "legendgroup": "final_girl",
         "marker": {
          "color": "#FECB52",
          "pattern": {
           "shape": ""
          }
         },
         "name": "final_girl",
         "offsetgroup": "final_girl",
         "orientation": "h",
         "showlegend": true,
         "textposition": "auto",
         "type": "bar",
         "x": [
          11,
          12,
          5,
          10,
          10,
          2
         ],
         "xaxis": "x",
         "y": [
          274,
          275,
          276,
          277,
          278,
          279
         ],
         "yaxis": "y"
        },
        {
         "alignmentgroup": "True",
         "hovertemplate": "Cluster=granola_person<br>Movie release Month=%{x}<br>index=%{y}<extra></extra>",
         "legendgroup": "granola_person",
         "marker": {
          "color": "#636efa",
          "pattern": {
           "shape": ""
          }
         },
         "name": "granola_person",
         "offsetgroup": "granola_person",
         "orientation": "h",
         "showlegend": true,
         "textposition": "auto",
         "type": "bar",
         "x": [
          7,
          9,
          7,
          9,
          11,
          1,
          3,
          9
         ],
         "xaxis": "x",
         "y": [
          290,
          291,
          292,
          293,
          294,
          295,
          296,
          297
         ],
         "yaxis": "y"
        },
        {
         "alignmentgroup": "True",
         "hovertemplate": "Cluster=grumpy_old_man<br>Movie release Month=%{x}<br>index=%{y}<extra></extra>",
         "legendgroup": "grumpy_old_man",
         "marker": {
          "color": "#EF553B",
          "pattern": {
           "shape": ""
          }
         },
         "name": "grumpy_old_man",
         "offsetgroup": "grumpy_old_man",
         "orientation": "h",
         "showlegend": true,
         "textposition": "auto",
         "type": "bar",
         "x": [
          12,
          12,
          5,
          11,
          7
         ],
         "xaxis": "x",
         "y": [
          298,
          299,
          300,
          301,
          302
         ],
         "yaxis": "y"
        },
        {
         "alignmentgroup": "True",
         "hovertemplate": "Cluster=henpecked_husband<br>Movie release Month=%{x}<br>index=%{y}<extra></extra>",
         "legendgroup": "henpecked_husband",
         "marker": {
          "color": "#00cc96",
          "pattern": {
           "shape": ""
          }
         },
         "name": "henpecked_husband",
         "offsetgroup": "henpecked_husband",
         "orientation": "h",
         "showlegend": true,
         "textposition": "auto",
         "type": "bar",
         "x": [
          2,
          2,
          7,
          3,
          9
         ],
         "xaxis": "x",
         "y": [
          314,
          315,
          316,
          317,
          318
         ],
         "yaxis": "y"
        },
        {
         "alignmentgroup": "True",
         "hovertemplate": "Cluster=junkie_prophet<br>Movie release Month=%{x}<br>index=%{y}<extra></extra>",
         "legendgroup": "junkie_prophet",
         "marker": {
          "color": "#ab63fa",
          "pattern": {
           "shape": ""
          }
         },
         "name": "junkie_prophet",
         "offsetgroup": "junkie_prophet",
         "orientation": "h",
         "showlegend": true,
         "textposition": "auto",
         "type": "bar",
         "x": [
          6,
          1
         ],
         "xaxis": "x",
         "y": [
          332,
          333
         ],
         "yaxis": "y"
        },
        {
         "alignmentgroup": "True",
         "hovertemplate": "Cluster=klutz<br>Movie release Month=%{x}<br>index=%{y}<extra></extra>",
         "legendgroup": "klutz",
         "marker": {
          "color": "#FFA15A",
          "pattern": {
           "shape": ""
          }
         },
         "name": "klutz",
         "offsetgroup": "klutz",
         "orientation": "h",
         "showlegend": true,
         "textposition": "auto",
         "type": "bar",
         "x": [
          7,
          12
         ],
         "xaxis": "x",
         "y": [
          334,
          335
         ],
         "yaxis": "y"
        },
        {
         "alignmentgroup": "True",
         "hovertemplate": "Cluster=loser_protagonist<br>Movie release Month=%{x}<br>index=%{y}<extra></extra>",
         "legendgroup": "loser_protagonist",
         "marker": {
          "color": "#19d3f3",
          "pattern": {
           "shape": ""
          }
         },
         "name": "loser_protagonist",
         "offsetgroup": "loser_protagonist",
         "orientation": "h",
         "showlegend": true,
         "textposition": "auto",
         "type": "bar",
         "x": [
          1,
          10,
          9,
          9,
          9,
          3
         ],
         "xaxis": "x",
         "y": [
          336,
          337,
          338,
          339,
          340,
          342
         ],
         "yaxis": "y"
        },
        {
         "alignmentgroup": "True",
         "hovertemplate": "Cluster=tranquil_fury<br>Movie release Month=%{x}<br>index=%{y}<extra></extra>",
         "legendgroup": "tranquil_fury",
         "marker": {
          "color": "#FF6692",
          "pattern": {
           "shape": ""
          }
         },
         "name": "tranquil_fury",
         "offsetgroup": "tranquil_fury",
         "orientation": "h",
         "showlegend": true,
         "textposition": "auto",
         "type": "bar",
         "x": [
          9,
          5,
          12,
          5,
          11,
          11,
          5
         ],
         "xaxis": "x",
         "y": [
          352,
          457,
          458,
          459,
          460,
          461,
          462
         ],
         "yaxis": "y"
        },
        {
         "alignmentgroup": "True",
         "hovertemplate": "Cluster=warrior_poet<br>Movie release Month=%{x}<br>index=%{y}<extra></extra>",
         "legendgroup": "warrior_poet",
         "marker": {
          "color": "#B6E880",
          "pattern": {
           "shape": ""
          }
         },
         "name": "warrior_poet",
         "offsetgroup": "warrior_poet",
         "orientation": "h",
         "showlegend": true,
         "textposition": "auto",
         "type": "bar",
         "x": [
          10,
          11,
          6,
          5,
          5,
          8,
          12,
          3
         ],
         "xaxis": "x",
         "y": [
          357,
          469,
          470,
          471,
          472,
          473,
          474,
          475
         ],
         "yaxis": "y"
        },
        {
         "alignmentgroup": "True",
         "hovertemplate": "Cluster=ophelia<br>Movie release Month=%{x}<br>index=%{y}<extra></extra>",
         "legendgroup": "ophelia",
         "marker": {
          "color": "#FF97FF",
          "pattern": {
           "shape": ""
          }
         },
         "name": "ophelia",
         "offsetgroup": "ophelia",
         "orientation": "h",
         "showlegend": true,
         "textposition": "auto",
         "type": "bar",
         "x": [
          9,
          10,
          5,
          12,
          2
         ],
         "xaxis": "x",
         "y": [
          365,
          366,
          367,
          368,
          369
         ],
         "yaxis": "y"
        },
        {
         "alignmentgroup": "True",
         "hovertemplate": "Cluster=playful_hacker<br>Movie release Month=%{x}<br>index=%{y}<extra></extra>",
         "legendgroup": "playful_hacker",
         "marker": {
          "color": "#FECB52",
          "pattern": {
           "shape": ""
          }
         },
         "name": "playful_hacker",
         "offsetgroup": "playful_hacker",
         "orientation": "h",
         "showlegend": true,
         "textposition": "auto",
         "type": "bar",
         "x": [
          7,
          11,
          11,
          6,
          8
         ],
         "xaxis": "x",
         "y": [
          370,
          371,
          372,
          373,
          374
         ],
         "yaxis": "y"
        },
        {
         "alignmentgroup": "True",
         "hovertemplate": "Cluster=prima_donna<br>Movie release Month=%{x}<br>index=%{y}<extra></extra>",
         "legendgroup": "prima_donna",
         "marker": {
          "color": "#636efa",
          "pattern": {
           "shape": ""
          }
         },
         "name": "prima_donna",
         "offsetgroup": "prima_donna",
         "orientation": "h",
         "showlegend": true,
         "textposition": "auto",
         "type": "bar",
         "x": [
          1,
          8,
          9,
          8
         ],
         "xaxis": "x",
         "y": [
          375,
          376,
          377,
          378
         ],
         "yaxis": "y"
        },
        {
         "alignmentgroup": "True",
         "hovertemplate": "Cluster=pupil_turned_to_evil<br>Movie release Month=%{x}<br>index=%{y}<extra></extra>",
         "legendgroup": "pupil_turned_to_evil",
         "marker": {
          "color": "#EF553B",
          "pattern": {
           "shape": ""
          }
         },
         "name": "pupil_turned_to_evil",
         "offsetgroup": "pupil_turned_to_evil",
         "orientation": "h",
         "showlegend": true,
         "textposition": "auto",
         "type": "bar",
         "x": [
          5,
          3
         ],
         "xaxis": "x",
         "y": [
          394,
          395
         ],
         "yaxis": "y"
        },
        {
         "alignmentgroup": "True",
         "hovertemplate": "Cluster=retired_outlaw<br>Movie release Month=%{x}<br>index=%{y}<extra></extra>",
         "legendgroup": "retired_outlaw",
         "marker": {
          "color": "#00cc96",
          "pattern": {
           "shape": ""
          }
         },
         "name": "retired_outlaw",
         "offsetgroup": "retired_outlaw",
         "orientation": "h",
         "showlegend": true,
         "textposition": "auto",
         "type": "bar",
         "x": [
          8,
          8,
          9,
          9,
          8,
          5
         ],
         "xaxis": "x",
         "y": [
          396,
          397,
          398,
          399,
          400,
          401
         ],
         "yaxis": "y"
        },
        {
         "alignmentgroup": "True",
         "hovertemplate": "Cluster=romantic_runnerup<br>Movie release Month=%{x}<br>index=%{y}<extra></extra>",
         "legendgroup": "romantic_runnerup",
         "marker": {
          "color": "#ab63fa",
          "pattern": {
           "shape": ""
          }
         },
         "name": "romantic_runnerup",
         "offsetgroup": "romantic_runnerup",
         "orientation": "h",
         "showlegend": true,
         "textposition": "auto",
         "type": "bar",
         "x": [
          11,
          10,
          5,
          12,
          2,
          7
         ],
         "xaxis": "x",
         "y": [
          406,
          407,
          408,
          409,
          410,
          411
         ],
         "yaxis": "y"
        },
        {
         "alignmentgroup": "True",
         "hovertemplate": "Cluster=self_made_man<br>Movie release Month=%{x}<br>index=%{y}<extra></extra>",
         "legendgroup": "self_made_man",
         "marker": {
          "color": "#FFA15A",
          "pattern": {
           "shape": ""
          }
         },
         "name": "self_made_man",
         "offsetgroup": "self_made_man",
         "orientation": "h",
         "showlegend": true,
         "textposition": "auto",
         "type": "bar",
         "x": [
          12,
          11,
          10
         ],
         "xaxis": "x",
         "y": [
          412,
          413,
          414
         ],
         "yaxis": "y"
        },
        {
         "alignmentgroup": "True",
         "hovertemplate": "Cluster=stoner<br>Movie release Month=%{x}<br>index=%{y}<extra></extra>",
         "legendgroup": "stoner",
         "marker": {
          "color": "#19d3f3",
          "pattern": {
           "shape": ""
          }
         },
         "name": "stoner",
         "offsetgroup": "stoner",
         "orientation": "h",
         "showlegend": true,
         "textposition": "auto",
         "type": "bar",
         "x": [
          8,
          5,
          5,
          2,
          2,
          8,
          7,
          5,
          8,
          8,
          4,
          4,
          12
         ],
         "xaxis": "x",
         "y": [
          416,
          420,
          424,
          425,
          427,
          429,
          431,
          432,
          433,
          434,
          435,
          436,
          437
         ],
         "yaxis": "y"
        },
        {
         "alignmentgroup": "True",
         "hovertemplate": "Cluster=surfer_dude<br>Movie release Month=%{x}<br>index=%{y}<extra></extra>",
         "legendgroup": "surfer_dude",
         "marker": {
          "color": "#FF6692",
          "pattern": {
           "shape": ""
          }
         },
         "name": "surfer_dude",
         "offsetgroup": "surfer_dude",
         "orientation": "h",
         "showlegend": true,
         "textposition": "auto",
         "type": "bar",
         "x": [
          2,
          2,
          8,
          6,
          6,
          5,
          7,
          1,
          5
         ],
         "xaxis": "x",
         "y": [
          426,
          428,
          430,
          446,
          447,
          448,
          449,
          450,
          451
         ],
         "yaxis": "y"
        },
        {
         "alignmentgroup": "True",
         "hovertemplate": "Cluster=storyteller<br>Movie release Month=%{x}<br>index=%{y}<extra></extra>",
         "legendgroup": "storyteller",
         "marker": {
          "color": "#B6E880",
          "pattern": {
           "shape": ""
          }
         },
         "name": "storyteller",
         "offsetgroup": "storyteller",
         "orientation": "h",
         "showlegend": true,
         "textposition": "auto",
         "type": "bar",
         "x": [
          12,
          9,
          12
         ],
         "xaxis": "x",
         "y": [
          438,
          439,
          440
         ],
         "yaxis": "y"
        },
        {
         "alignmentgroup": "True",
         "hovertemplate": "Cluster=stupid_crooks<br>Movie release Month=%{x}<br>index=%{y}<extra></extra>",
         "legendgroup": "stupid_crooks",
         "marker": {
          "color": "#FF97FF",
          "pattern": {
           "shape": ""
          }
         },
         "name": "stupid_crooks",
         "offsetgroup": "stupid_crooks",
         "orientation": "h",
         "showlegend": true,
         "textposition": "auto",
         "type": "bar",
         "x": [
          8,
          8,
          8,
          3,
          5
         ],
         "xaxis": "x",
         "y": [
          441,
          442,
          443,
          444,
          445
         ],
         "yaxis": "y"
        },
        {
         "alignmentgroup": "True",
         "hovertemplate": "Cluster=the_chief<br>Movie release Month=%{x}<br>index=%{y}<extra></extra>",
         "legendgroup": "the_chief",
         "marker": {
          "color": "#FECB52",
          "pattern": {
           "shape": ""
          }
         },
         "name": "the_chief",
         "offsetgroup": "the_chief",
         "orientation": "h",
         "showlegend": true,
         "textposition": "auto",
         "type": "bar",
         "x": [
          1,
          12,
          12
         ],
         "xaxis": "x",
         "y": [
          452,
          453,
          454
         ],
         "yaxis": "y"
        },
        {
         "alignmentgroup": "True",
         "hovertemplate": "Cluster=the_editor<br>Movie release Month=%{x}<br>index=%{y}<extra></extra>",
         "legendgroup": "the_editor",
         "marker": {
          "color": "#636efa",
          "pattern": {
           "shape": ""
          }
         },
         "name": "the_editor",
         "offsetgroup": "the_editor",
         "orientation": "h",
         "showlegend": true,
         "textposition": "auto",
         "type": "bar",
         "x": [
          4,
          1
         ],
         "xaxis": "x",
         "y": [
          455,
          456
         ],
         "yaxis": "y"
        },
        {
         "alignmentgroup": "True",
         "hovertemplate": "Cluster=young_gun<br>Movie release Month=%{x}<br>index=%{y}<extra></extra>",
         "legendgroup": "young_gun",
         "marker": {
          "color": "#EF553B",
          "pattern": {
           "shape": ""
          }
         },
         "name": "young_gun",
         "offsetgroup": "young_gun",
         "orientation": "h",
         "showlegend": true,
         "textposition": "auto",
         "type": "bar",
         "x": [
          10,
          12,
          3,
          7,
          8,
          7
         ],
         "xaxis": "x",
         "y": [
          476,
          477,
          478,
          479,
          480,
          481
         ],
         "yaxis": "y"
        }
       ],
       "layout": {
        "barmode": "relative",
        "legend": {
         "title": {
          "text": "Cluster"
         },
         "tracegroupgap": 0
        },
        "margin": {
         "t": 60
        },
        "template": {
         "data": {
          "bar": [
           {
            "error_x": {
             "color": "#2a3f5f"
            },
            "error_y": {
             "color": "#2a3f5f"
            },
            "marker": {
             "line": {
              "color": "#E5ECF6",
              "width": 0.5
             },
             "pattern": {
              "fillmode": "overlay",
              "size": 10,
              "solidity": 0.2
             }
            },
            "type": "bar"
           }
          ],
          "barpolar": [
           {
            "marker": {
             "line": {
              "color": "#E5ECF6",
              "width": 0.5
             },
             "pattern": {
              "fillmode": "overlay",
              "size": 10,
              "solidity": 0.2
             }
            },
            "type": "barpolar"
           }
          ],
          "carpet": [
           {
            "aaxis": {
             "endlinecolor": "#2a3f5f",
             "gridcolor": "white",
             "linecolor": "white",
             "minorgridcolor": "white",
             "startlinecolor": "#2a3f5f"
            },
            "baxis": {
             "endlinecolor": "#2a3f5f",
             "gridcolor": "white",
             "linecolor": "white",
             "minorgridcolor": "white",
             "startlinecolor": "#2a3f5f"
            },
            "type": "carpet"
           }
          ],
          "choropleth": [
           {
            "colorbar": {
             "outlinewidth": 0,
             "ticks": ""
            },
            "type": "choropleth"
           }
          ],
          "contour": [
           {
            "colorbar": {
             "outlinewidth": 0,
             "ticks": ""
            },
            "colorscale": [
             [
              0,
              "#0d0887"
             ],
             [
              0.1111111111111111,
              "#46039f"
             ],
             [
              0.2222222222222222,
              "#7201a8"
             ],
             [
              0.3333333333333333,
              "#9c179e"
             ],
             [
              0.4444444444444444,
              "#bd3786"
             ],
             [
              0.5555555555555556,
              "#d8576b"
             ],
             [
              0.6666666666666666,
              "#ed7953"
             ],
             [
              0.7777777777777778,
              "#fb9f3a"
             ],
             [
              0.8888888888888888,
              "#fdca26"
             ],
             [
              1,
              "#f0f921"
             ]
            ],
            "type": "contour"
           }
          ],
          "contourcarpet": [
           {
            "colorbar": {
             "outlinewidth": 0,
             "ticks": ""
            },
            "type": "contourcarpet"
           }
          ],
          "heatmap": [
           {
            "colorbar": {
             "outlinewidth": 0,
             "ticks": ""
            },
            "colorscale": [
             [
              0,
              "#0d0887"
             ],
             [
              0.1111111111111111,
              "#46039f"
             ],
             [
              0.2222222222222222,
              "#7201a8"
             ],
             [
              0.3333333333333333,
              "#9c179e"
             ],
             [
              0.4444444444444444,
              "#bd3786"
             ],
             [
              0.5555555555555556,
              "#d8576b"
             ],
             [
              0.6666666666666666,
              "#ed7953"
             ],
             [
              0.7777777777777778,
              "#fb9f3a"
             ],
             [
              0.8888888888888888,
              "#fdca26"
             ],
             [
              1,
              "#f0f921"
             ]
            ],
            "type": "heatmap"
           }
          ],
          "heatmapgl": [
           {
            "colorbar": {
             "outlinewidth": 0,
             "ticks": ""
            },
            "colorscale": [
             [
              0,
              "#0d0887"
             ],
             [
              0.1111111111111111,
              "#46039f"
             ],
             [
              0.2222222222222222,
              "#7201a8"
             ],
             [
              0.3333333333333333,
              "#9c179e"
             ],
             [
              0.4444444444444444,
              "#bd3786"
             ],
             [
              0.5555555555555556,
              "#d8576b"
             ],
             [
              0.6666666666666666,
              "#ed7953"
             ],
             [
              0.7777777777777778,
              "#fb9f3a"
             ],
             [
              0.8888888888888888,
              "#fdca26"
             ],
             [
              1,
              "#f0f921"
             ]
            ],
            "type": "heatmapgl"
           }
          ],
          "histogram": [
           {
            "marker": {
             "pattern": {
              "fillmode": "overlay",
              "size": 10,
              "solidity": 0.2
             }
            },
            "type": "histogram"
           }
          ],
          "histogram2d": [
           {
            "colorbar": {
             "outlinewidth": 0,
             "ticks": ""
            },
            "colorscale": [
             [
              0,
              "#0d0887"
             ],
             [
              0.1111111111111111,
              "#46039f"
             ],
             [
              0.2222222222222222,
              "#7201a8"
             ],
             [
              0.3333333333333333,
              "#9c179e"
             ],
             [
              0.4444444444444444,
              "#bd3786"
             ],
             [
              0.5555555555555556,
              "#d8576b"
             ],
             [
              0.6666666666666666,
              "#ed7953"
             ],
             [
              0.7777777777777778,
              "#fb9f3a"
             ],
             [
              0.8888888888888888,
              "#fdca26"
             ],
             [
              1,
              "#f0f921"
             ]
            ],
            "type": "histogram2d"
           }
          ],
          "histogram2dcontour": [
           {
            "colorbar": {
             "outlinewidth": 0,
             "ticks": ""
            },
            "colorscale": [
             [
              0,
              "#0d0887"
             ],
             [
              0.1111111111111111,
              "#46039f"
             ],
             [
              0.2222222222222222,
              "#7201a8"
             ],
             [
              0.3333333333333333,
              "#9c179e"
             ],
             [
              0.4444444444444444,
              "#bd3786"
             ],
             [
              0.5555555555555556,
              "#d8576b"
             ],
             [
              0.6666666666666666,
              "#ed7953"
             ],
             [
              0.7777777777777778,
              "#fb9f3a"
             ],
             [
              0.8888888888888888,
              "#fdca26"
             ],
             [
              1,
              "#f0f921"
             ]
            ],
            "type": "histogram2dcontour"
           }
          ],
          "mesh3d": [
           {
            "colorbar": {
             "outlinewidth": 0,
             "ticks": ""
            },
            "type": "mesh3d"
           }
          ],
          "parcoords": [
           {
            "line": {
             "colorbar": {
              "outlinewidth": 0,
              "ticks": ""
             }
            },
            "type": "parcoords"
           }
          ],
          "pie": [
           {
            "automargin": true,
            "type": "pie"
           }
          ],
          "scatter": [
           {
            "fillpattern": {
             "fillmode": "overlay",
             "size": 10,
             "solidity": 0.2
            },
            "type": "scatter"
           }
          ],
          "scatter3d": [
           {
            "line": {
             "colorbar": {
              "outlinewidth": 0,
              "ticks": ""
             }
            },
            "marker": {
             "colorbar": {
              "outlinewidth": 0,
              "ticks": ""
             }
            },
            "type": "scatter3d"
           }
          ],
          "scattercarpet": [
           {
            "marker": {
             "colorbar": {
              "outlinewidth": 0,
              "ticks": ""
             }
            },
            "type": "scattercarpet"
           }
          ],
          "scattergeo": [
           {
            "marker": {
             "colorbar": {
              "outlinewidth": 0,
              "ticks": ""
             }
            },
            "type": "scattergeo"
           }
          ],
          "scattergl": [
           {
            "marker": {
             "colorbar": {
              "outlinewidth": 0,
              "ticks": ""
             }
            },
            "type": "scattergl"
           }
          ],
          "scattermapbox": [
           {
            "marker": {
             "colorbar": {
              "outlinewidth": 0,
              "ticks": ""
             }
            },
            "type": "scattermapbox"
           }
          ],
          "scatterpolar": [
           {
            "marker": {
             "colorbar": {
              "outlinewidth": 0,
              "ticks": ""
             }
            },
            "type": "scatterpolar"
           }
          ],
          "scatterpolargl": [
           {
            "marker": {
             "colorbar": {
              "outlinewidth": 0,
              "ticks": ""
             }
            },
            "type": "scatterpolargl"
           }
          ],
          "scatterternary": [
           {
            "marker": {
             "colorbar": {
              "outlinewidth": 0,
              "ticks": ""
             }
            },
            "type": "scatterternary"
           }
          ],
          "surface": [
           {
            "colorbar": {
             "outlinewidth": 0,
             "ticks": ""
            },
            "colorscale": [
             [
              0,
              "#0d0887"
             ],
             [
              0.1111111111111111,
              "#46039f"
             ],
             [
              0.2222222222222222,
              "#7201a8"
             ],
             [
              0.3333333333333333,
              "#9c179e"
             ],
             [
              0.4444444444444444,
              "#bd3786"
             ],
             [
              0.5555555555555556,
              "#d8576b"
             ],
             [
              0.6666666666666666,
              "#ed7953"
             ],
             [
              0.7777777777777778,
              "#fb9f3a"
             ],
             [
              0.8888888888888888,
              "#fdca26"
             ],
             [
              1,
              "#f0f921"
             ]
            ],
            "type": "surface"
           }
          ],
          "table": [
           {
            "cells": {
             "fill": {
              "color": "#EBF0F8"
             },
             "line": {
              "color": "white"
             }
            },
            "header": {
             "fill": {
              "color": "#C8D4E3"
             },
             "line": {
              "color": "white"
             }
            },
            "type": "table"
           }
          ]
         },
         "layout": {
          "annotationdefaults": {
           "arrowcolor": "#2a3f5f",
           "arrowhead": 0,
           "arrowwidth": 1
          },
          "autotypenumbers": "strict",
          "coloraxis": {
           "colorbar": {
            "outlinewidth": 0,
            "ticks": ""
           }
          },
          "colorscale": {
           "diverging": [
            [
             0,
             "#8e0152"
            ],
            [
             0.1,
             "#c51b7d"
            ],
            [
             0.2,
             "#de77ae"
            ],
            [
             0.3,
             "#f1b6da"
            ],
            [
             0.4,
             "#fde0ef"
            ],
            [
             0.5,
             "#f7f7f7"
            ],
            [
             0.6,
             "#e6f5d0"
            ],
            [
             0.7,
             "#b8e186"
            ],
            [
             0.8,
             "#7fbc41"
            ],
            [
             0.9,
             "#4d9221"
            ],
            [
             1,
             "#276419"
            ]
           ],
           "sequential": [
            [
             0,
             "#0d0887"
            ],
            [
             0.1111111111111111,
             "#46039f"
            ],
            [
             0.2222222222222222,
             "#7201a8"
            ],
            [
             0.3333333333333333,
             "#9c179e"
            ],
            [
             0.4444444444444444,
             "#bd3786"
            ],
            [
             0.5555555555555556,
             "#d8576b"
            ],
            [
             0.6666666666666666,
             "#ed7953"
            ],
            [
             0.7777777777777778,
             "#fb9f3a"
            ],
            [
             0.8888888888888888,
             "#fdca26"
            ],
            [
             1,
             "#f0f921"
            ]
           ],
           "sequentialminus": [
            [
             0,
             "#0d0887"
            ],
            [
             0.1111111111111111,
             "#46039f"
            ],
            [
             0.2222222222222222,
             "#7201a8"
            ],
            [
             0.3333333333333333,
             "#9c179e"
            ],
            [
             0.4444444444444444,
             "#bd3786"
            ],
            [
             0.5555555555555556,
             "#d8576b"
            ],
            [
             0.6666666666666666,
             "#ed7953"
            ],
            [
             0.7777777777777778,
             "#fb9f3a"
            ],
            [
             0.8888888888888888,
             "#fdca26"
            ],
            [
             1,
             "#f0f921"
            ]
           ]
          },
          "colorway": [
           "#636efa",
           "#EF553B",
           "#00cc96",
           "#ab63fa",
           "#FFA15A",
           "#19d3f3",
           "#FF6692",
           "#B6E880",
           "#FF97FF",
           "#FECB52"
          ],
          "font": {
           "color": "#2a3f5f"
          },
          "geo": {
           "bgcolor": "white",
           "lakecolor": "white",
           "landcolor": "#E5ECF6",
           "showlakes": true,
           "showland": true,
           "subunitcolor": "white"
          },
          "hoverlabel": {
           "align": "left"
          },
          "hovermode": "closest",
          "mapbox": {
           "style": "light"
          },
          "paper_bgcolor": "white",
          "plot_bgcolor": "#E5ECF6",
          "polar": {
           "angularaxis": {
            "gridcolor": "white",
            "linecolor": "white",
            "ticks": ""
           },
           "bgcolor": "#E5ECF6",
           "radialaxis": {
            "gridcolor": "white",
            "linecolor": "white",
            "ticks": ""
           }
          },
          "scene": {
           "xaxis": {
            "backgroundcolor": "#E5ECF6",
            "gridcolor": "white",
            "gridwidth": 2,
            "linecolor": "white",
            "showbackground": true,
            "ticks": "",
            "zerolinecolor": "white"
           },
           "yaxis": {
            "backgroundcolor": "#E5ECF6",
            "gridcolor": "white",
            "gridwidth": 2,
            "linecolor": "white",
            "showbackground": true,
            "ticks": "",
            "zerolinecolor": "white"
           },
           "zaxis": {
            "backgroundcolor": "#E5ECF6",
            "gridcolor": "white",
            "gridwidth": 2,
            "linecolor": "white",
            "showbackground": true,
            "ticks": "",
            "zerolinecolor": "white"
           }
          },
          "shapedefaults": {
           "line": {
            "color": "#2a3f5f"
           }
          },
          "ternary": {
           "aaxis": {
            "gridcolor": "white",
            "linecolor": "white",
            "ticks": ""
           },
           "baxis": {
            "gridcolor": "white",
            "linecolor": "white",
            "ticks": ""
           },
           "bgcolor": "#E5ECF6",
           "caxis": {
            "gridcolor": "white",
            "linecolor": "white",
            "ticks": ""
           }
          },
          "title": {
           "x": 0.05
          },
          "xaxis": {
           "automargin": true,
           "gridcolor": "white",
           "linecolor": "white",
           "ticks": "",
           "title": {
            "standoff": 15
           },
           "zerolinecolor": "white",
           "zerolinewidth": 2
          },
          "yaxis": {
           "automargin": true,
           "gridcolor": "white",
           "linecolor": "white",
           "ticks": "",
           "title": {
            "standoff": 15
           },
           "zerolinecolor": "white",
           "zerolinewidth": 2
          }
         }
        },
        "xaxis": {
         "anchor": "y",
         "domain": [
          0,
          1
         ],
         "title": {
          "text": "Movie release Month"
         }
        },
        "yaxis": {
         "anchor": "x",
         "domain": [
          0,
          1
         ],
         "title": {
          "text": "index"
         }
        }
       }
      }
     },
     "metadata": {},
     "output_type": "display_data"
    },
    {
     "name": "stdout",
     "output_type": "stream",
     "text": [
      "Collecting plotly\n",
      "  Obtaining dependency information for plotly from https://files.pythonhosted.org/packages/a8/07/72953cf70e3bd3a24cbc3e743e6f8539abe6e3e6d83c3c0c83426eaffd39/plotly-5.18.0-py3-none-any.whl.metadata\n",
      "  Downloading plotly-5.18.0-py3-none-any.whl.metadata (7.0 kB)\n",
      "Collecting tenacity>=6.2.0 (from plotly)\n",
      "  Obtaining dependency information for tenacity>=6.2.0 from https://files.pythonhosted.org/packages/f4/f1/990741d5bb2487d529d20a433210ffa136a367751e454214013b441c4575/tenacity-8.2.3-py3-none-any.whl.metadata\n",
      "  Downloading tenacity-8.2.3-py3-none-any.whl.metadata (1.0 kB)\n",
      "Requirement already satisfied: packaging in c:\\users\\jujud\\anaconda3\\envs\\ada\\lib\\site-packages (from plotly) (23.1)\n",
      "Downloading plotly-5.18.0-py3-none-any.whl (15.6 MB)\n",
      "   ---------------------------------------- 0.0/15.6 MB ? eta -:--:--\n",
      "   ---------------------------------------- 0.0/15.6 MB ? eta -:--:--\n",
      "   ---------------------------------------- 0.1/15.6 MB 1.7 MB/s eta 0:00:10\n",
      "    --------------------------------------- 0.3/15.6 MB 2.8 MB/s eta 0:00:06\n",
      "   - -------------------------------------- 0.6/15.6 MB 3.9 MB/s eta 0:00:04\n",
      "   -- ------------------------------------- 1.1/15.6 MB 5.5 MB/s eta 0:00:03\n",
      "   ---- ----------------------------------- 1.9/15.6 MB 7.7 MB/s eta 0:00:02\n",
      "   ------ --------------------------------- 2.7/15.6 MB 8.9 MB/s eta 0:00:02\n",
      "   -------- ------------------------------- 3.2/15.6 MB 9.4 MB/s eta 0:00:02\n",
      "   --------- ------------------------------ 3.8/15.6 MB 9.3 MB/s eta 0:00:02\n",
      "   ----------- ---------------------------- 4.4/15.6 MB 9.6 MB/s eta 0:00:02\n",
      "   ----------- ---------------------------- 4.6/15.6 MB 9.5 MB/s eta 0:00:02\n",
      "   ------------- -------------------------- 5.1/15.6 MB 9.3 MB/s eta 0:00:02\n",
      "   -------------- ------------------------- 5.6/15.6 MB 9.4 MB/s eta 0:00:02\n",
      "   --------------- ------------------------ 6.2/15.6 MB 9.7 MB/s eta 0:00:01\n",
      "   ---------------- ----------------------- 6.6/15.6 MB 9.3 MB/s eta 0:00:01\n",
      "   ----------------- ---------------------- 6.9/15.6 MB 9.2 MB/s eta 0:00:01\n",
      "   ------------------- -------------------- 7.5/15.6 MB 9.4 MB/s eta 0:00:01\n",
      "   -------------------- ------------------- 8.0/15.6 MB 9.6 MB/s eta 0:00:01\n",
      "   -------------------- ------------------- 8.0/15.6 MB 9.3 MB/s eta 0:00:01\n",
      "   -------------------- ------------------- 8.0/15.6 MB 9.3 MB/s eta 0:00:01\n",
      "   -------------------- ------------------- 8.0/15.6 MB 9.3 MB/s eta 0:00:01\n",
      "   ----------------------- ---------------- 9.2/15.6 MB 9.0 MB/s eta 0:00:01\n",
      "   ------------------------- -------------- 9.8/15.6 MB 9.4 MB/s eta 0:00:01\n",
      "   ------------------------- -------------- 10.0/15.6 MB 9.4 MB/s eta 0:00:01\n",
      "   -------------------------- ------------- 10.5/15.6 MB 9.8 MB/s eta 0:00:01\n",
      "   ---------------------------- ----------- 11.0/15.6 MB 10.1 MB/s eta 0:00:01\n",
      "   ----------------------------- ---------- 11.6/15.6 MB 9.9 MB/s eta 0:00:01\n",
      "   ------------------------------- -------- 12.2/15.6 MB 9.9 MB/s eta 0:00:01\n",
      "   -------------------------------- ------- 12.9/15.6 MB 9.9 MB/s eta 0:00:01\n",
      "   --------------------------------- ------ 13.2/15.6 MB 9.8 MB/s eta 0:00:01\n",
      "   ----------------------------------- ---- 13.9/15.6 MB 9.8 MB/s eta 0:00:01\n",
      "   ------------------------------------ --- 14.2/15.6 MB 9.4 MB/s eta 0:00:01\n",
      "   ------------------------------------- -- 14.8/15.6 MB 9.6 MB/s eta 0:00:01\n",
      "   -------------------------------------- - 15.2/15.6 MB 9.6 MB/s eta 0:00:01\n",
      "   ---------------------------------------  15.6/15.6 MB 9.8 MB/s eta 0:00:01\n",
      "   ---------------------------------------  15.6/15.6 MB 9.8 MB/s eta 0:00:01\n",
      "   ---------------------------------------  15.6/15.6 MB 9.8 MB/s eta 0:00:01\n",
      "   ---------------------------------------  15.6/15.6 MB 9.8 MB/s eta 0:00:01\n",
      "   ---------------------------------------  15.6/15.6 MB 9.8 MB/s eta 0:00:01\n",
      "   ---------------------------------------  15.6/15.6 MB 9.8 MB/s eta 0:00:01\n",
      "   ---------------------------------------  15.6/15.6 MB 9.8 MB/s eta 0:00:01\n",
      "   ---------------------------------------  15.6/15.6 MB 9.8 MB/s eta 0:00:01\n",
      "   ---------------------------------------  15.6/15.6 MB 9.8 MB/s eta 0:00:01\n",
      "   ---------------------------------------  15.6/15.6 MB 9.8 MB/s eta 0:00:01\n",
      "   ---------------------------------------  15.6/15.6 MB 9.8 MB/s eta 0:00:01\n",
      "   ---------------------------------------  15.6/15.6 MB 9.8 MB/s eta 0:00:01\n",
      "   ---------------------------------------  15.6/15.6 MB 9.8 MB/s eta 0:00:01\n",
      "   ---------------------------------------  15.6/15.6 MB 9.8 MB/s eta 0:00:01\n",
      "   ---------------------------------------  15.6/15.6 MB 9.8 MB/s eta 0:00:01\n",
      "   ---------------------------------------  15.6/15.6 MB 9.8 MB/s eta 0:00:01\n",
      "   ---------------------------------------  15.6/15.6 MB 9.8 MB/s eta 0:00:01\n",
      "   ---------------------------------------  15.6/15.6 MB 9.8 MB/s eta 0:00:01\n",
      "   ---------------------------------------  15.6/15.6 MB 9.8 MB/s eta 0:00:01\n",
      "   ---------------------------------------  15.6/15.6 MB 9.8 MB/s eta 0:00:01\n",
      "   ---------------------------------------  15.6/15.6 MB 9.8 MB/s eta 0:00:01\n",
      "   ---------------------------------------  15.6/15.6 MB 9.8 MB/s eta 0:00:01\n",
      "   ---------------------------------------  15.6/15.6 MB 9.8 MB/s eta 0:00:01\n",
      "   ---------------------------------------  15.6/15.6 MB 9.8 MB/s eta 0:00:01\n",
      "   ---------------------------------------  15.6/15.6 MB 9.8 MB/s eta 0:00:01\n",
      "   ---------------------------------------  15.6/15.6 MB 9.8 MB/s eta 0:00:01\n",
      "   ---------------------------------------  15.6/15.6 MB 9.8 MB/s eta 0:00:01\n",
      "   ---------------------------------------  15.6/15.6 MB 9.8 MB/s eta 0:00:01\n",
      "   ---------------------------------------- 15.6/15.6 MB 4.3 MB/s eta 0:00:00\n",
      "Downloading tenacity-8.2.3-py3-none-any.whl (24 kB)\n",
      "Installing collected packages: tenacity, plotly\n",
      "Successfully installed plotly-5.18.0 tenacity-8.2.3\n"
     ]
    }
   ],
   "source": [
    "import plotly.express as px\n",
    "\n",
    "# Créez un graphique interactif en barres empilées\n",
    "fig = px.bar(df_final, x='Movie release Month', color='Cluster')\n",
    "\n",
    "# Affichez le graphique interactif\n",
    "fig.show()\n"
   ]
  },
  {
   "cell_type": "code",
   "execution_count": 16,
   "metadata": {},
   "outputs": [
    {
     "data": {
      "image/png": "[encoded data removed]",
      "text/plain": [
       "<Figure size 1200x600 with 1 Axes>"
      ]
     },
     "metadata": {},
     "output_type": "display_data"
    }
   ],
   "source": [
    "top_clusters = df_final['Cluster'].value_counts().nlargest(10).index\n",
    "df_top_clusters = df_final[df_final['Cluster'].isin(top_clusters)]\n",
    "\n",
    "# Créez un graphique en barres empilées\n",
    "plt.figure(figsize=(12, 6))\n",
    "sns.countplot(x='Movie release Month', hue='Cluster', data=df_top_clusters, palette='viridis')\n",
    "# ... (réglages et affichage du graphique)\n",
    "\n",
    "\n",
    "# Supposons que df_final soit votre DataFrame\n",
    "\n",
    "\n",
    "# Réglez les étiquettes et le titre\n",
    "plt.xlabel('Mois de sortie du film')\n",
    "plt.ylabel('Nombre de films')\n",
    "plt.title('Distribution des sorties de films par mois pour chaque cluster')\n",
    "\n",
    "# Affichez la légende\n",
    "plt.legend(title='Cluster', bbox_to_anchor=(1.05, 1), loc='upper left')\n",
    "\n",
    "# Affichez le diagramme\n",
    "plt.show()\n",
    "\n"
   ]
  },
  {
   "cell_type": "code",
   "execution_count": 19,
   "metadata": {},
   "outputs": [
    {
     "name": "stderr",
     "output_type": "stream",
     "text": [
      "C:\\Users\\jujud\\AppData\\Local\\Temp\\ipykernel_36424\\3675027788.py:4: SettingWithCopyWarning:\n",
      "\n",
      "\n",
      "A value is trying to be set on a copy of a slice from a DataFrame.\n",
      "Try using .loc[row_indexer,col_indexer] = value instead\n",
      "\n",
      "See the caveats in the documentation: https://pandas.pydata.org/pandas-docs/stable/user_guide/indexing.html#returning-a-view-versus-a-copy\n",
      "\n"
     ]
    },
    {
     "data": {
      "image/png": "[encoded data removed]",
      "text/plain": [
       "<Figure size 1200x600 with 1 Axes>"
      ]
     },
     "metadata": {},
     "output_type": "display_data"
    }
   ],
   "source": [
    "\n",
    "# Supposons que df_final soit votre DataFrame\n",
    "\n",
    "# Filtrer les clusters les plus fréquents (par exemple, les 10 clusters les plus fréquents)\n",
    "df_final['Saison'] = df_final['Movie release Month'].apply(lambda x: 'Hiver' if x in [12, 1, 2] else 'Printemps' if x in [3, 4, 5] else 'Été' if x in [6, 7, 8] else 'Automne')\n",
    "\n",
    "top_clusters = df_final['Cluster'].value_counts().nlargest(10).index\n",
    "df_top_clusters = df_final[df_final['Cluster'].isin(top_clusters)]\n",
    "# Ajouter une colonne 'Saison' basée sur les mois\n",
    "\n",
    "# Créer un graphique en barres empilées par saison pour les clusters les plus fréquents\n",
    "plt.figure(figsize=(12, 6))\n",
    "sns.countplot(x='Saison', hue='Cluster', data=df_top_clusters, palette='viridis')\n",
    "\n",
    "# Réglez les étiquettes et le titre\n",
    "plt.xlabel('Saison de sortie du film')\n",
    "plt.ylabel('Nombre de films')\n",
    "plt.title('Distribution des sorties de films par saison pour les clusters les plus fréquents')\n",
    "\n",
    "# Affichez la légende\n",
    "plt.legend(title='Cluster', bbox_to_anchor=(1.05, 1), loc='upper left')\n",
    "\n",
    "# Affichez le diagramme\n",
    "plt.show()\n"
   ]
  },
  {
   "cell_type": "code",
   "execution_count": 18,
   "metadata": {},
   "outputs": [
    {
     "ename": "ValueError",
     "evalue": "labels must be unique if ordered=True; pass ordered=False for duplicate labels",
     "output_type": "error",
     "traceback": [
      "\u001b[1;31m---------------------------------------------------------------------------\u001b[0m",
      "\u001b[1;31mValueError\u001b[0m                                Traceback (most recent call last)",
      "\u001b[1;32mUntitled-1.ipynb Cell 18\u001b[0m line \u001b[0;36m8\n\u001b[0;32m      <a href='vscode-notebook-cell:Untitled-1.ipynb?jupyter-notebook#X25sdW50aXRsZWQ%3D?line=4'>5</a>\u001b[0m df_top_clusters \u001b[39m=\u001b[39m df_final[df_final[\u001b[39m'\u001b[39m\u001b[39mCluster\u001b[39m\u001b[39m'\u001b[39m]\u001b[39m.\u001b[39misin(top_clusters)]\n\u001b[0;32m      <a href='vscode-notebook-cell:Untitled-1.ipynb?jupyter-notebook#X25sdW50aXRsZWQ%3D?line=6'>7</a>\u001b[0m \u001b[39m# Ajouter une colonne 'Saison' basée sur les mois\u001b[39;00m\n\u001b[1;32m----> <a href='vscode-notebook-cell:Untitled-1.ipynb?jupyter-notebook#X25sdW50aXRsZWQ%3D?line=7'>8</a>\u001b[0m df_top_clusters[\u001b[39m'\u001b[39m\u001b[39mSaison\u001b[39m\u001b[39m'\u001b[39m] \u001b[39m=\u001b[39m pd\u001b[39m.\u001b[39;49mcut(df_top_clusters[\u001b[39m'\u001b[39;49m\u001b[39mMovie release Month\u001b[39;49m\u001b[39m'\u001b[39;49m], bins\u001b[39m=\u001b[39;49m[\u001b[39m-\u001b[39;49m\u001b[39m1\u001b[39;49m, \u001b[39m2\u001b[39;49m, \u001b[39m5\u001b[39;49m, \u001b[39m8\u001b[39;49m, \u001b[39m11\u001b[39;49m, \u001b[39m12\u001b[39;49m], labels\u001b[39m=\u001b[39;49m[\u001b[39m'\u001b[39;49m\u001b[39mHiver\u001b[39;49m\u001b[39m'\u001b[39;49m, \u001b[39m'\u001b[39;49m\u001b[39mPrintemps\u001b[39;49m\u001b[39m'\u001b[39;49m, \u001b[39m'\u001b[39;49m\u001b[39mÉté\u001b[39;49m\u001b[39m'\u001b[39;49m, \u001b[39m'\u001b[39;49m\u001b[39mAutomne\u001b[39;49m\u001b[39m'\u001b[39;49m, \u001b[39m'\u001b[39;49m\u001b[39mHiver\u001b[39;49m\u001b[39m'\u001b[39;49m])\n\u001b[0;32m     <a href='vscode-notebook-cell:Untitled-1.ipynb?jupyter-notebook#X25sdW50aXRsZWQ%3D?line=9'>10</a>\u001b[0m \u001b[39m# Créer un graphique en barres empilées par saison pour les clusters les plus fréquents\u001b[39;00m\n\u001b[0;32m     <a href='vscode-notebook-cell:Untitled-1.ipynb?jupyter-notebook#X25sdW50aXRsZWQ%3D?line=10'>11</a>\u001b[0m plt\u001b[39m.\u001b[39mfigure(figsize\u001b[39m=\u001b[39m(\u001b[39m12\u001b[39m, \u001b[39m6\u001b[39m))\n",
      "File \u001b[1;32mc:\\Users\\jujud\\anaconda3\\envs\\ada\\lib\\site-packages\\pandas\\core\\reshape\\tile.py:293\u001b[0m, in \u001b[0;36mcut\u001b[1;34m(x, bins, right, labels, retbins, precision, include_lowest, duplicates, ordered)\u001b[0m\n\u001b[0;32m    290\u001b[0m     \u001b[39mif\u001b[39;00m (np\u001b[39m.\u001b[39mdiff(bins\u001b[39m.\u001b[39mastype(\u001b[39m\"\u001b[39m\u001b[39mfloat64\u001b[39m\u001b[39m\"\u001b[39m)) \u001b[39m<\u001b[39m \u001b[39m0\u001b[39m)\u001b[39m.\u001b[39many():\n\u001b[0;32m    291\u001b[0m         \u001b[39mraise\u001b[39;00m \u001b[39mValueError\u001b[39;00m(\u001b[39m\"\u001b[39m\u001b[39mbins must increase monotonically.\u001b[39m\u001b[39m\"\u001b[39m)\n\u001b[1;32m--> 293\u001b[0m fac, bins \u001b[39m=\u001b[39m _bins_to_cuts(\n\u001b[0;32m    294\u001b[0m     x,\n\u001b[0;32m    295\u001b[0m     bins,\n\u001b[0;32m    296\u001b[0m     right\u001b[39m=\u001b[39;49mright,\n\u001b[0;32m    297\u001b[0m     labels\u001b[39m=\u001b[39;49mlabels,\n\u001b[0;32m    298\u001b[0m     precision\u001b[39m=\u001b[39;49mprecision,\n\u001b[0;32m    299\u001b[0m     include_lowest\u001b[39m=\u001b[39;49minclude_lowest,\n\u001b[0;32m    300\u001b[0m     dtype\u001b[39m=\u001b[39;49mdtype,\n\u001b[0;32m    301\u001b[0m     duplicates\u001b[39m=\u001b[39;49mduplicates,\n\u001b[0;32m    302\u001b[0m     ordered\u001b[39m=\u001b[39;49mordered,\n\u001b[0;32m    303\u001b[0m )\n\u001b[0;32m    305\u001b[0m \u001b[39mreturn\u001b[39;00m _postprocess_for_cut(fac, bins, retbins, dtype, original)\n",
      "File \u001b[1;32mc:\\Users\\jujud\\anaconda3\\envs\\ada\\lib\\site-packages\\pandas\\core\\reshape\\tile.py:447\u001b[0m, in \u001b[0;36m_bins_to_cuts\u001b[1;34m(x, bins, right, labels, precision, include_lowest, dtype, duplicates, ordered)\u001b[0m\n\u001b[0;32m    443\u001b[0m     labels \u001b[39m=\u001b[39m _format_labels(\n\u001b[0;32m    444\u001b[0m         bins, precision, right\u001b[39m=\u001b[39mright, include_lowest\u001b[39m=\u001b[39minclude_lowest, dtype\u001b[39m=\u001b[39mdtype\n\u001b[0;32m    445\u001b[0m     )\n\u001b[0;32m    446\u001b[0m \u001b[39melif\u001b[39;00m ordered \u001b[39mand\u001b[39;00m \u001b[39mlen\u001b[39m(\u001b[39mset\u001b[39m(labels)) \u001b[39m!=\u001b[39m \u001b[39mlen\u001b[39m(labels):\n\u001b[1;32m--> 447\u001b[0m     \u001b[39mraise\u001b[39;00m \u001b[39mValueError\u001b[39;00m(\n\u001b[0;32m    448\u001b[0m         \u001b[39m\"\u001b[39m\u001b[39mlabels must be unique if ordered=True; pass ordered=False \u001b[39m\u001b[39m\"\u001b[39m\n\u001b[0;32m    449\u001b[0m         \u001b[39m\"\u001b[39m\u001b[39mfor duplicate labels\u001b[39m\u001b[39m\"\u001b[39m\n\u001b[0;32m    450\u001b[0m     )\n\u001b[0;32m    451\u001b[0m \u001b[39melse\u001b[39;00m:\n\u001b[0;32m    452\u001b[0m     \u001b[39mif\u001b[39;00m \u001b[39mlen\u001b[39m(labels) \u001b[39m!=\u001b[39m \u001b[39mlen\u001b[39m(bins) \u001b[39m-\u001b[39m \u001b[39m1\u001b[39m:\n",
      "\u001b[1;31mValueError\u001b[0m: labels must be unique if ordered=True; pass ordered=False for duplicate labels"
     ]
    }
   ],
   "source": [
    "\n",
    "\n",
    "# Supposons que df_final soit votre DataFrame\n",
    "\n",
    "# Filtrer les clusters les plus fréquents (par exemple, les 10 clusters les plus fréquents)\n",
    "top_clusters = df_final['Cluster'].value_counts().nlargest(10).index\n",
    "df_top_clusters = df_final[df_final['Cluster'].isin(top_clusters)]\n",
    "\n",
    "# Ajouter une colonne 'Saison' basée sur les mois\n",
    "df_top_clusters['Saison'] = pd.cut(df_top_clusters['Movie release Month'], bins=[-1, 2, 5, 8, 11, 12], labels=['Hiver', 'Printemps', 'Été', 'Automne', 'Hiver'])\n",
    "\n",
    "# Créer un graphique en barres empilées par saison pour les clusters les plus fréquents\n",
    "plt.figure(figsize=(12, 6))\n",
    "sns.countplot(x='Saison', hue='Cluster', data=df_top_clusters, palette='viridis')\n",
    "\n",
    "# Réglez les étiquettes et le titre\n",
    "plt.xlabel('Saison de sortie du film')\n",
    "plt.ylabel('Nombre de films')\n",
    "plt.title('Distribution des sorties de films par saison pour les clusters les plus fréquents')\n",
    "\n",
    "# Affichez la légende\n",
    "plt.legend(title='Cluster', bbox_to_anchor=(1.05, 1), loc='upper left')\n",
    "\n",
    "# Affichez le diagramme\n",
    "plt.show()\n"
   ]
  }
 ],
 "metadata": {
  "kernelspec": {
   "display_name": "ada",
   "language": "python",
   "name": "python3"
  },
  "language_info": {
   "codemirror_mode": {
    "name": "ipython",
    "version": 3
   },
   "file_extension": ".py",
   "mimetype": "text/x-python",
   "name": "python",
   "nbconvert_exporter": "python",
   "pygments_lexer": "ipython3",
   "version": "3.9.18"
  }
 },
 "nbformat": 4,
 "nbformat_minor": 2
}
