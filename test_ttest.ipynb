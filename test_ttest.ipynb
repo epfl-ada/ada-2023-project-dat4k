{
 "cells": [
  {
   "cell_type": "markdown",
   "metadata": {},
   "source": [
    "# T-test\n",
    "Goal: reject the null hypothesis which tells that the mean number of horror movies is the same when released in october or another season."
   ]
  },
  {
   "cell_type": "markdown",
   "metadata": {},
   "source": [
    "Step 1: compute the mean nb of horror movies in october"
   ]
  },
  {
   "cell_type": "code",
   "execution_count": 2,
   "metadata": {},
   "outputs": [],
   "source": [
    "import pandas as pd\n",
    "import numpy as np\n",
    "import matplotlib.pyplot as plt\n",
    "import json \n",
    "import ast\n",
    "from datetime import datetime"
   ]
  },
  {
   "cell_type": "code",
   "execution_count": 4,
   "metadata": {},
   "outputs": [
    {
     "data": {
      "text/html": [
       "<div>\n",
       "<style scoped>\n",
       "    .dataframe tbody tr th:only-of-type {\n",
       "        vertical-align: middle;\n",
       "    }\n",
       "\n",
       "    .dataframe tbody tr th {\n",
       "        vertical-align: top;\n",
       "    }\n",
       "\n",
       "    .dataframe thead th {\n",
       "        text-align: right;\n",
       "    }\n",
       "</style>\n",
       "<table border=\"1\" class=\"dataframe\">\n",
       "  <thead>\n",
       "    <tr style=\"text-align: right;\">\n",
       "      <th></th>\n",
       "      <th>Unnamed: 0</th>\n",
       "      <th>Wikipedia movieID</th>\n",
       "      <th>Freebase movieID</th>\n",
       "      <th>Movie name</th>\n",
       "      <th>Movie box office revenue</th>\n",
       "      <th>Movie runtime</th>\n",
       "      <th>Movie languages</th>\n",
       "      <th>Movie countries</th>\n",
       "      <th>Movie release year</th>\n",
       "      <th>Movie release month</th>\n",
       "      <th>Movie release season</th>\n",
       "      <th>genre 1</th>\n",
       "      <th>genre 2</th>\n",
       "    </tr>\n",
       "  </thead>\n",
       "  <tbody>\n",
       "    <tr>\n",
       "      <th>0</th>\n",
       "      <td>0</td>\n",
       "      <td>13388989</td>\n",
       "      <td>/m/03c3qdq</td>\n",
       "      <td>Pirate Gold</td>\n",
       "      <td>NaN</td>\n",
       "      <td>NaN</td>\n",
       "      <td>{\"/m/06ppq\": \"Silent film\", \"/m/02h40lc\": \"Eng...</td>\n",
       "      <td>{\"/m/09c7w0\": \"United States of America\"}</td>\n",
       "      <td>1913</td>\n",
       "      <td>1</td>\n",
       "      <td>1</td>\n",
       "      <td>NaN</td>\n",
       "      <td>NaN</td>\n",
       "    </tr>\n",
       "    <tr>\n",
       "      <th>1</th>\n",
       "      <td>1</td>\n",
       "      <td>15839614</td>\n",
       "      <td>/m/03nwzrh</td>\n",
       "      <td>Hinemoa</td>\n",
       "      <td>NaN</td>\n",
       "      <td>24.0</td>\n",
       "      <td>{\"/m/02h40lc\": \"English Language\"}</td>\n",
       "      <td>{\"/m/09c7w0\": \"United States of America\", \"/m/...</td>\n",
       "      <td>1913</td>\n",
       "      <td>3</td>\n",
       "      <td>2</td>\n",
       "      <td>Drama</td>\n",
       "      <td>NaN</td>\n",
       "    </tr>\n",
       "    <tr>\n",
       "      <th>2</th>\n",
       "      <td>2</td>\n",
       "      <td>14071789</td>\n",
       "      <td>/m/03cspdc</td>\n",
       "      <td>The Twelfth Juror</td>\n",
       "      <td>NaN</td>\n",
       "      <td>NaN</td>\n",
       "      <td>{\"/m/06ppq\": \"Silent film\", \"/m/02h40lc\": \"Eng...</td>\n",
       "      <td>{\"/m/09c7w0\": \"United States of America\"}</td>\n",
       "      <td>1913</td>\n",
       "      <td>4</td>\n",
       "      <td>2</td>\n",
       "      <td>Drama</td>\n",
       "      <td>NaN</td>\n",
       "    </tr>\n",
       "    <tr>\n",
       "      <th>3</th>\n",
       "      <td>3</td>\n",
       "      <td>7709364</td>\n",
       "      <td>/m/0kvflk</td>\n",
       "      <td>In the Mountains of Virginia</td>\n",
       "      <td>NaN</td>\n",
       "      <td>NaN</td>\n",
       "      <td>{\"/m/06ppq\": \"Silent film\", \"/m/02h40lc\": \"Eng...</td>\n",
       "      <td>{\"/m/09c7w0\": \"United States of America\"}</td>\n",
       "      <td>1913</td>\n",
       "      <td>10</td>\n",
       "      <td>4</td>\n",
       "      <td>NaN</td>\n",
       "      <td>NaN</td>\n",
       "    </tr>\n",
       "    <tr>\n",
       "      <th>4</th>\n",
       "      <td>4</td>\n",
       "      <td>13389288</td>\n",
       "      <td>/m/03c3qzt</td>\n",
       "      <td>Brothers</td>\n",
       "      <td>NaN</td>\n",
       "      <td>NaN</td>\n",
       "      <td>{\"/m/06ppq\": \"Silent film\", \"/m/02h40lc\": \"Eng...</td>\n",
       "      <td>{\"/m/09c7w0\": \"United States of America\"}</td>\n",
       "      <td>1913</td>\n",
       "      <td>2</td>\n",
       "      <td>1</td>\n",
       "      <td>Drama</td>\n",
       "      <td>NaN</td>\n",
       "    </tr>\n",
       "    <tr>\n",
       "      <th>...</th>\n",
       "      <td>...</td>\n",
       "      <td>...</td>\n",
       "      <td>...</td>\n",
       "      <td>...</td>\n",
       "      <td>...</td>\n",
       "      <td>...</td>\n",
       "      <td>...</td>\n",
       "      <td>...</td>\n",
       "      <td>...</td>\n",
       "      <td>...</td>\n",
       "      <td>...</td>\n",
       "      <td>...</td>\n",
       "      <td>...</td>\n",
       "    </tr>\n",
       "    <tr>\n",
       "      <th>41850</th>\n",
       "      <td>41850</td>\n",
       "      <td>36465188</td>\n",
       "      <td>/m/0h2h9tt</td>\n",
       "      <td>El Gringo</td>\n",
       "      <td>NaN</td>\n",
       "      <td>NaN</td>\n",
       "      <td>{}</td>\n",
       "      <td>{\"/m/09c7w0\": \"United States of America\"}</td>\n",
       "      <td>2012</td>\n",
       "      <td>5</td>\n",
       "      <td>2</td>\n",
       "      <td>Action</td>\n",
       "      <td>NaN</td>\n",
       "    </tr>\n",
       "    <tr>\n",
       "      <th>41851</th>\n",
       "      <td>41851</td>\n",
       "      <td>35320614</td>\n",
       "      <td>/m/0j7jmy8</td>\n",
       "      <td>Live at the Machine Shop</td>\n",
       "      <td>NaN</td>\n",
       "      <td>67.0</td>\n",
       "      <td>{\"/m/02h40lc\": \"English Language\"}</td>\n",
       "      <td>{}</td>\n",
       "      <td>2012</td>\n",
       "      <td>3</td>\n",
       "      <td>2</td>\n",
       "      <td>NaN</td>\n",
       "      <td>NaN</td>\n",
       "    </tr>\n",
       "    <tr>\n",
       "      <th>41852</th>\n",
       "      <td>41852</td>\n",
       "      <td>34961787</td>\n",
       "      <td>/m/0j438k5</td>\n",
       "      <td>Romeo</td>\n",
       "      <td>NaN</td>\n",
       "      <td>NaN</td>\n",
       "      <td>{\"/m/09bnf\": \"Kannada Language\"}</td>\n",
       "      <td>{\"/m/03rk0\": \"India\"}</td>\n",
       "      <td>2012</td>\n",
       "      <td>7</td>\n",
       "      <td>3</td>\n",
       "      <td>Romance</td>\n",
       "      <td>NaN</td>\n",
       "    </tr>\n",
       "    <tr>\n",
       "      <th>41853</th>\n",
       "      <td>41853</td>\n",
       "      <td>34881832</td>\n",
       "      <td>/m/0j45hrp</td>\n",
       "      <td>Putta</td>\n",
       "      <td>NaN</td>\n",
       "      <td>NaN</td>\n",
       "      <td>{\"/m/09bnf\": \"Kannada Language\"}</td>\n",
       "      <td>{\"/m/03rk0\": \"India\"}</td>\n",
       "      <td>2012</td>\n",
       "      <td>10</td>\n",
       "      <td>4</td>\n",
       "      <td>NaN</td>\n",
       "      <td>NaN</td>\n",
       "    </tr>\n",
       "    <tr>\n",
       "      <th>41854</th>\n",
       "      <td>41854</td>\n",
       "      <td>36449838</td>\n",
       "      <td>/m/0k8cnv7</td>\n",
       "      <td>Space Sheriff Gavan: The Movie</td>\n",
       "      <td>NaN</td>\n",
       "      <td>NaN</td>\n",
       "      <td>{\"/m/03_9r\": \"Japanese Language\"}</td>\n",
       "      <td>{\"/m/03_3d\": \"Japan\"}</td>\n",
       "      <td>2012</td>\n",
       "      <td>10</td>\n",
       "      <td>4</td>\n",
       "      <td>Action</td>\n",
       "      <td>NaN</td>\n",
       "    </tr>\n",
       "  </tbody>\n",
       "</table>\n",
       "<p>41855 rows × 13 columns</p>\n",
       "</div>"
      ],
      "text/plain": [
       "       Unnamed: 0  Wikipedia movieID Freebase movieID  \\\n",
       "0               0           13388989       /m/03c3qdq   \n",
       "1               1           15839614       /m/03nwzrh   \n",
       "2               2           14071789       /m/03cspdc   \n",
       "3               3            7709364        /m/0kvflk   \n",
       "4               4           13389288       /m/03c3qzt   \n",
       "...           ...                ...              ...   \n",
       "41850       41850           36465188       /m/0h2h9tt   \n",
       "41851       41851           35320614       /m/0j7jmy8   \n",
       "41852       41852           34961787       /m/0j438k5   \n",
       "41853       41853           34881832       /m/0j45hrp   \n",
       "41854       41854           36449838       /m/0k8cnv7   \n",
       "\n",
       "                           Movie name  Movie box office revenue  \\\n",
       "0                         Pirate Gold                       NaN   \n",
       "1                             Hinemoa                       NaN   \n",
       "2                   The Twelfth Juror                       NaN   \n",
       "3        In the Mountains of Virginia                       NaN   \n",
       "4                            Brothers                       NaN   \n",
       "...                               ...                       ...   \n",
       "41850                       El Gringo                       NaN   \n",
       "41851        Live at the Machine Shop                       NaN   \n",
       "41852                           Romeo                       NaN   \n",
       "41853                           Putta                       NaN   \n",
       "41854  Space Sheriff Gavan: The Movie                       NaN   \n",
       "\n",
       "       Movie runtime                                    Movie languages  \\\n",
       "0                NaN  {\"/m/06ppq\": \"Silent film\", \"/m/02h40lc\": \"Eng...   \n",
       "1               24.0                 {\"/m/02h40lc\": \"English Language\"}   \n",
       "2                NaN  {\"/m/06ppq\": \"Silent film\", \"/m/02h40lc\": \"Eng...   \n",
       "3                NaN  {\"/m/06ppq\": \"Silent film\", \"/m/02h40lc\": \"Eng...   \n",
       "4                NaN  {\"/m/06ppq\": \"Silent film\", \"/m/02h40lc\": \"Eng...   \n",
       "...              ...                                                ...   \n",
       "41850            NaN                                                 {}   \n",
       "41851           67.0                 {\"/m/02h40lc\": \"English Language\"}   \n",
       "41852            NaN                   {\"/m/09bnf\": \"Kannada Language\"}   \n",
       "41853            NaN                   {\"/m/09bnf\": \"Kannada Language\"}   \n",
       "41854            NaN                  {\"/m/03_9r\": \"Japanese Language\"}   \n",
       "\n",
       "                                         Movie countries  Movie release year  \\\n",
       "0              {\"/m/09c7w0\": \"United States of America\"}                1913   \n",
       "1      {\"/m/09c7w0\": \"United States of America\", \"/m/...                1913   \n",
       "2              {\"/m/09c7w0\": \"United States of America\"}                1913   \n",
       "3              {\"/m/09c7w0\": \"United States of America\"}                1913   \n",
       "4              {\"/m/09c7w0\": \"United States of America\"}                1913   \n",
       "...                                                  ...                 ...   \n",
       "41850          {\"/m/09c7w0\": \"United States of America\"}                2012   \n",
       "41851                                                 {}                2012   \n",
       "41852                              {\"/m/03rk0\": \"India\"}                2012   \n",
       "41853                              {\"/m/03rk0\": \"India\"}                2012   \n",
       "41854                              {\"/m/03_3d\": \"Japan\"}                2012   \n",
       "\n",
       "       Movie release month  Movie release season  genre 1 genre 2  \n",
       "0                        1                     1      NaN     NaN  \n",
       "1                        3                     2    Drama     NaN  \n",
       "2                        4                     2    Drama     NaN  \n",
       "3                       10                     4      NaN     NaN  \n",
       "4                        2                     1    Drama     NaN  \n",
       "...                    ...                   ...      ...     ...  \n",
       "41850                    5                     2   Action     NaN  \n",
       "41851                    3                     2      NaN     NaN  \n",
       "41852                    7                     3  Romance     NaN  \n",
       "41853                   10                     4      NaN     NaN  \n",
       "41854                   10                     4   Action     NaN  \n",
       "\n",
       "[41855 rows x 13 columns]"
      ]
     },
     "metadata": {},
     "output_type": "display_data"
    }
   ],
   "source": [
    "df = pd.read_csv('Data/movie.metadata.genres.tsv', sep='\\t' )\n",
    "\n",
    "display(df)"
   ]
  },
  {
   "cell_type": "code",
   "execution_count": 125,
   "metadata": {},
   "outputs": [],
   "source": [
    "# Select all the rows which have month == 10 and (genre 1 == Horror or genre 2 == Horror)\n",
    "nb_horror_october = df[(df['Movie release month'] == 10) & ((df['genre 1']=='Horror') | (df['genre 2']=='Horror'))].shape[0]\n",
    "\n",
    "# Select all the rows which have month = 10\n",
    "nb_movies_october = df[(df['Movie release month'] == 10)].shape[0]\n",
    "\n",
    "# Select all the rows which have month != 10 and (genre 1 == Horror or genre 2 == Horror)\n",
    "nb_horror_not_october = df[(df['Movie release month'] != 10) & ((df['genre 1']=='Horror') | (df['genre 2']=='Horror'))].shape[0]\n",
    "\n",
    "# Select all the rows which have month != 10\n",
    "nb_movies_not_october = df[(df['Movie release month'] != 10)].shape[0]\n"
   ]
  },
  {
   "cell_type": "code",
   "execution_count": 74,
   "metadata": {},
   "outputs": [
    {
     "data": {
      "text/plain": [
       "311"
      ]
     },
     "execution_count": 74,
     "metadata": {},
     "output_type": "execute_result"
    }
   ],
   "source": [
    "nb_horror_october"
   ]
  },
  {
   "cell_type": "code",
   "execution_count": 127,
   "metadata": {},
   "outputs": [
    {
     "data": {
      "text/plain": [
       "201.0"
      ]
     },
     "execution_count": 127,
     "metadata": {},
     "output_type": "execute_result"
    }
   ],
   "source": [
    "nb_horror_not_october/11"
   ]
  },
  {
   "cell_type": "markdown",
   "metadata": {},
   "source": [
    "H0: the average nb of horror movies per year is the same when released in october or not."
   ]
  },
  {
   "cell_type": "code",
   "execution_count": 130,
   "metadata": {},
   "outputs": [
    {
     "data": {
      "text/plain": [
       "7.454545454545454"
      ]
     },
     "execution_count": 130,
     "metadata": {},
     "output_type": "execute_result"
    }
   ],
   "source": [
    "\n",
    "nb_horror_october = df[(df['Movie release month'] == 10) & (df['Movie release year'] >= 1980)& ((df['genre 1']=='Horror') | \n",
    "                                                        (df['genre 2']=='Horror'))] #.shape[0]\n",
    "nb_horror_october_by_year = nb_horror_october.groupby(['Movie release year'])['Movie name'].count()\n",
    "nb_horror_october_by_year.mean()"
   ]
  },
  {
   "cell_type": "code",
   "execution_count": 131,
   "metadata": {},
   "outputs": [
    {
     "data": {
      "text/plain": [
       "4.424242424242424"
      ]
     },
     "execution_count": 131,
     "metadata": {},
     "output_type": "execute_result"
    }
   ],
   "source": [
    "nb_horror_not_october = df[(df['Movie release month'] != 10) &  (df['Movie release year'] >= 1980)&((df['genre 1']=='Horror') | \n",
    "                                                        (df['genre 2']=='Horror'))] #.shape[0]\n",
    "nb_horror_not_october_by_year = nb_horror_not_october.groupby(['Movie release year'])['Movie name'].count()\n",
    "np.round(nb_horror_not_october_by_year/11).mean()"
   ]
  },
  {
   "cell_type": "code",
   "execution_count": 143,
   "metadata": {},
   "outputs": [
    {
     "data": {
      "text/plain": [
       "Text(0.5, 1.0, 'Number of horror movies per year')"
      ]
     },
     "execution_count": 143,
     "metadata": {},
     "output_type": "execute_result"
    },
    {
     "data": {
      "image/png": "[encoded data removed]",
      "text/plain": [
       "<Figure size 640x480 with 1 Axes>"
      ]
     },
     "metadata": {},
     "output_type": "display_data"
    }
   ],
   "source": [
    "plt.plot(nb_horror_october_by_year,label=\"nb horror movies in october\")\n",
    "plt.plot(np.round(nb_horror_not_october_by_year/11),label=\"nb horror movies not in october\")\n",
    "plt.legend()\n",
    "plt.title(\"Number of horror movies per year\")"
   ]
  },
  {
   "cell_type": "code",
   "execution_count": null,
   "metadata": {},
   "outputs": [],
   "source": []
  },
  {
   "cell_type": "code",
   "execution_count": 139,
   "metadata": {},
   "outputs": [],
   "source": [
    "#plt.boxplot(nb_horror_october_by_year)"
   ]
  },
  {
   "cell_type": "code",
   "execution_count": 150,
   "metadata": {},
   "outputs": [
    {
     "data": {
      "text/plain": [
       "TtestResult(statistic=2.4539877300613493, pvalue=0.016859984448267924, df=64.0)"
      ]
     },
     "metadata": {},
     "output_type": "display_data"
    }
   ],
   "source": [
    "import scipy.stats \n",
    "display(scipy.stats.ttest_ind(nb_horror_october_by_year, np.round(nb_horror_not_october_by_year/11)))"
   ]
  },
  {
   "cell_type": "code",
   "execution_count": 145,
   "metadata": {},
   "outputs": [
    {
     "data": {
      "text/plain": [
       "2.272727272727273"
      ]
     },
     "execution_count": 145,
     "metadata": {},
     "output_type": "execute_result"
    }
   ],
   "source": [
    "nb_horror_not_october_2010 = df[(df['Movie release month'] != 10) & (df['Movie release year'] == 1980) & ((df['genre 1']=='Horror') | \n",
    "                                                        (df['genre 2']=='Horror'))].shape[0]\n",
    "nb_horror_not_october_2010/11"
   ]
  },
  {
   "cell_type": "code",
   "execution_count": 38,
   "metadata": {},
   "outputs": [
    {
     "data": {
      "text/plain": [
       "0.0751207729468599"
      ]
     },
     "execution_count": 38,
     "metadata": {},
     "output_type": "execute_result"
    }
   ],
   "source": [
    "# Ratio of horror movies in october\n",
    "ratio_horror_october = nb_horror_october / nb_movies_october\n",
    "ratio_horror_october"
   ]
  },
  {
   "cell_type": "code",
   "execution_count": 39,
   "metadata": {},
   "outputs": [
    {
     "data": {
      "text/plain": [
       "0.05862388969905873"
      ]
     },
     "execution_count": 39,
     "metadata": {},
     "output_type": "execute_result"
    }
   ],
   "source": [
    "# Ratio number of horror movies not in october\n",
    "ratio_horror_not_october = nb_horror_not_october / nb_movies_not_october\n",
    "ratio_horror_not_october"
   ]
  },
  {
   "cell_type": "markdown",
   "metadata": {},
   "source": [
    "T-test\n",
    "\n",
    "\n",
    "H0: \"The average box office of a horror movie released in october is equal to the average box office of a horror movie not released in october.\""
   ]
  },
  {
   "cell_type": "code",
   "execution_count": 113,
   "metadata": {},
   "outputs": [
    {
     "data": {
      "text/plain": [
       "48349876.21686747"
      ]
     },
     "execution_count": 113,
     "metadata": {},
     "output_type": "execute_result"
    }
   ],
   "source": [
    "box_office_horror_october = df[(df['Movie release month'] == 10) & ((df['genre 1']=='Horror') | (df['genre 2']=='Horror'))]['Movie box office revenue'].dropna()\n",
    "box_office_horror_october.mean()"
   ]
  },
  {
   "cell_type": "code",
   "execution_count": 70,
   "metadata": {},
   "outputs": [
    {
     "data": {
      "text/plain": [
       "54751463.45810056"
      ]
     },
     "execution_count": 70,
     "metadata": {},
     "output_type": "execute_result"
    }
   ],
   "source": [
    "box_office_horror_not_october = df[((df['Movie release month'] != 10)) & ((df['genre 1']=='Horror') | (df['genre 2']=='Horror'))]['Movie box office revenue'].dropna()\n",
    "box_office_horror_not_october.mean()"
   ]
  },
  {
   "cell_type": "code",
   "execution_count": 73,
   "metadata": {},
   "outputs": [
    {
     "data": {
      "text/plain": [
       "TtestResult(statistic=-0.5646656085308688, pvalue=0.5725061226007546, df=618.0)"
      ]
     },
     "metadata": {},
     "output_type": "display_data"
    }
   ],
   "source": [
    "import scipy.stats \n",
    "display(scipy.stats.ttest_ind(box_office_horror_october, box_office_horror_not_october))"
   ]
  },
  {
   "cell_type": "code",
   "execution_count": null,
   "metadata": {},
   "outputs": [],
   "source": []
  }
 ],
 "metadata": {
  "kernelspec": {
   "display_name": "Python 3",
   "language": "python",
   "name": "python3"
  },
  "language_info": {
   "codemirror_mode": {
    "name": "ipython",
    "version": 3
   },
   "file_extension": ".py",
   "mimetype": "text/x-python",
   "name": "python",
   "nbconvert_exporter": "python",
   "pygments_lexer": "ipython3",
   "version": "3.11.5"
  }
 },
 "nbformat": 4,
 "nbformat_minor": 2
}
